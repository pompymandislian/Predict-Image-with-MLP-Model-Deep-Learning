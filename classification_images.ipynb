{
  "cells": [
    {
      "cell_type": "markdown",
      "metadata": {
        "id": "iJbTvJyBAPnu"
      },
      "source": [
        "# Load Data\n",
        "---"
      ]
    },
    {
      "cell_type": "code",
      "execution_count": 1,
      "metadata": {
        "id": "BcId6EH3_FtO"
      },
      "outputs": [],
      "source": [
        "import torch\n",
        "from torchvision import datasets\n",
        "from torchvision.transforms import ToTensor"
      ]
    },
    {
      "cell_type": "code",
      "execution_count": 2,
      "metadata": {
        "id": "Cv317ADf_UPb",
        "colab": {
          "base_uri": "https://localhost:8080/"
        },
        "outputId": "10f5e45c-19b0-4927-abcc-4dc48a8b68d9"
      },
      "outputs": [
        {
          "output_type": "stream",
          "name": "stdout",
          "text": [
            "Downloading http://fashion-mnist.s3-website.eu-central-1.amazonaws.com/train-images-idx3-ubyte.gz\n",
            "Downloading http://fashion-mnist.s3-website.eu-central-1.amazonaws.com/train-images-idx3-ubyte.gz to data/FashionMNIST/raw/train-images-idx3-ubyte.gz\n"
          ]
        },
        {
          "output_type": "stream",
          "name": "stderr",
          "text": [
            "100%|██████████| 26421880/26421880 [00:01<00:00, 13751351.23it/s]\n"
          ]
        },
        {
          "output_type": "stream",
          "name": "stdout",
          "text": [
            "Extracting data/FashionMNIST/raw/train-images-idx3-ubyte.gz to data/FashionMNIST/raw\n",
            "\n",
            "Downloading http://fashion-mnist.s3-website.eu-central-1.amazonaws.com/train-labels-idx1-ubyte.gz\n",
            "Downloading http://fashion-mnist.s3-website.eu-central-1.amazonaws.com/train-labels-idx1-ubyte.gz to data/FashionMNIST/raw/train-labels-idx1-ubyte.gz\n"
          ]
        },
        {
          "output_type": "stream",
          "name": "stderr",
          "text": [
            "100%|██████████| 29515/29515 [00:00<00:00, 301100.06it/s]\n"
          ]
        },
        {
          "output_type": "stream",
          "name": "stdout",
          "text": [
            "Extracting data/FashionMNIST/raw/train-labels-idx1-ubyte.gz to data/FashionMNIST/raw\n",
            "\n",
            "Downloading http://fashion-mnist.s3-website.eu-central-1.amazonaws.com/t10k-images-idx3-ubyte.gz\n",
            "Downloading http://fashion-mnist.s3-website.eu-central-1.amazonaws.com/t10k-images-idx3-ubyte.gz to data/FashionMNIST/raw/t10k-images-idx3-ubyte.gz\n"
          ]
        },
        {
          "output_type": "stream",
          "name": "stderr",
          "text": [
            "100%|██████████| 4422102/4422102 [00:00<00:00, 5488081.24it/s]\n"
          ]
        },
        {
          "output_type": "stream",
          "name": "stdout",
          "text": [
            "Extracting data/FashionMNIST/raw/t10k-images-idx3-ubyte.gz to data/FashionMNIST/raw\n",
            "\n",
            "Downloading http://fashion-mnist.s3-website.eu-central-1.amazonaws.com/t10k-labels-idx1-ubyte.gz\n",
            "Downloading http://fashion-mnist.s3-website.eu-central-1.amazonaws.com/t10k-labels-idx1-ubyte.gz to data/FashionMNIST/raw/t10k-labels-idx1-ubyte.gz\n"
          ]
        },
        {
          "output_type": "stream",
          "name": "stderr",
          "text": [
            "100%|██████████| 5148/5148 [00:00<00:00, 15445119.45it/s]\n"
          ]
        },
        {
          "output_type": "stream",
          "name": "stdout",
          "text": [
            "Extracting data/FashionMNIST/raw/t10k-labels-idx1-ubyte.gz to data/FashionMNIST/raw\n",
            "\n"
          ]
        }
      ],
      "source": [
        "# Load dataset\n",
        "train_dataset = datasets.FashionMNIST(root='data', train=True, transform=ToTensor(), download=True)\n",
        "valid_dataset = datasets.FashionMNIST(root='data', train=True, transform=ToTensor())\n",
        "test_dataset = datasets.FashionMNIST(root='data', train=False, transform=ToTensor())"
      ]
    },
    {
      "cell_type": "code",
      "source": [
        "train_dataset"
      ],
      "metadata": {
        "colab": {
          "base_uri": "https://localhost:8080/"
        },
        "id": "UphKBwhoxhlt",
        "outputId": "149db619-d560-454d-e88b-16b8159b6408"
      },
      "execution_count": 3,
      "outputs": [
        {
          "output_type": "execute_result",
          "data": {
            "text/plain": [
              "Dataset FashionMNIST\n",
              "    Number of datapoints: 60000\n",
              "    Root location: data\n",
              "    Split: Train\n",
              "    StandardTransform\n",
              "Transform: ToTensor()"
            ]
          },
          "metadata": {},
          "execution_count": 3
        }
      ]
    },
    {
      "cell_type": "markdown",
      "metadata": {
        "id": "eAFtFUPj_czT"
      },
      "source": [
        "- Visualize the datast"
      ]
    },
    {
      "cell_type": "code",
      "execution_count": 7,
      "metadata": {
        "id": "aazpEOR6_ZeF"
      },
      "outputs": [],
      "source": [
        "labels_map = {\n",
        "    0: \"T-Shirt\",\n",
        "    1: \"Trouser\",\n",
        "    2: \"Pullover\",\n",
        "    3: \"Dress\",\n",
        "    4: \"Coat\",\n",
        "    5: \"Sandal\",\n",
        "    6: \"Shirt\",\n",
        "    7: \"Sneaker\",\n",
        "    8: \"Bag\",\n",
        "    9: \"Ankle Boot\",\n",
        "}"
      ]
    },
    {
      "cell_type": "code",
      "execution_count": 4,
      "metadata": {
        "id": "WLLwSlr9_kST"
      },
      "outputs": [],
      "source": [
        "import matplotlib.pyplot as plt\n",
        "%matplotlib inline"
      ]
    },
    {
      "cell_type": "code",
      "execution_count": 5,
      "metadata": {
        "id": "homLw8wq_lts",
        "colab": {
          "base_uri": "https://localhost:8080/"
        },
        "outputId": "919b1e63-2aeb-4801-f900-b21fa402185d"
      },
      "outputs": [
        {
          "output_type": "execute_result",
          "data": {
            "text/plain": [
              "36167"
            ]
          },
          "metadata": {},
          "execution_count": 5
        }
      ],
      "source": [
        "# check data\n",
        "sample_idx = torch.randint(len(train_dataset),\n",
        "                           size=(1,)).item()\n",
        "sample_idx"
      ]
    },
    {
      "cell_type": "code",
      "execution_count": 8,
      "metadata": {
        "id": "El38yK3b_t80",
        "colab": {
          "base_uri": "https://localhost:8080/",
          "height": 361
        },
        "outputId": "27d50e15-2eb1-4320-a8e1-04b42b939196"
      },
      "outputs": [
        {
          "output_type": "display_data",
          "data": {
            "text/plain": [
              "<Figure size 900x400 with 21 Axes>"
            ],
            "image/png": "[encoded data removed]"
          },
          "metadata": {}
        }
      ],
      "source": [
        "# Plot several sample\n",
        "fig, axes = plt.subplots(ncols=7, nrows=3, figsize=(9, 4))\n",
        "\n",
        "torch.manual_seed(42)\n",
        "for i in range(3):\n",
        "    for j in range(7):\n",
        "        # Get sample\n",
        "        sample_idx = torch.randint(len(train_dataset),\n",
        "                                   size=(1,)).item()\n",
        "\n",
        "        img, label = train_dataset[sample_idx]\n",
        "\n",
        "        # Plot\n",
        "        axes[i,j].set_title(labels_map[label], size=12)\n",
        "        axes[i,j].imshow(img.squeeze(), cmap='gray')\n",
        "        axes[i,j].get_xaxis().set_visible(False)\n",
        "        axes[i,j].get_yaxis().set_visible(False)\n",
        "\n",
        "plt.show()"
      ]
    },
    {
      "cell_type": "markdown",
      "metadata": {
        "id": "wJFO4CCC_5ta"
      },
      "source": [
        "- Next we create a data loader"
      ]
    },
    {
      "cell_type": "code",
      "execution_count": 9,
      "metadata": {
        "id": "dS4nIOVt_6z6"
      },
      "outputs": [],
      "source": [
        "from torch.utils.data import SubsetRandomSampler\n",
        "from torch.utils.data import DataLoader"
      ]
    },
    {
      "cell_type": "code",
      "execution_count": 10,
      "metadata": {
        "id": "cPAXZTmm_922",
        "colab": {
          "base_uri": "https://localhost:8080/"
        },
        "outputId": "c24876fc-4c89-4105-98d2-d5505e3a21a3"
      },
      "outputs": [
        {
          "output_type": "execute_result",
          "data": {
            "text/plain": [
              "(60000, 1000)"
            ]
          },
          "metadata": {},
          "execution_count": 10
        }
      ],
      "source": [
        "# Initialization for valid dataset min(1000, 10% train)\n",
        "n_train = len(train_dataset)\n",
        "valid_split_idx = min(1000, int(0.1*n_train))\n",
        "\n",
        "n_train, valid_split_idx"
      ]
    },
    {
      "cell_type": "code",
      "execution_count": 11,
      "metadata": {
        "id": "RsHcPMW1AAjD"
      },
      "outputs": [],
      "source": [
        "# Create a data sampler\n",
        "torch.manual_seed(42)\n",
        "train_sampler = SubsetRandomSampler(torch.arange(0, n_train-valid_split_idx))\n",
        "valid_sampler = SubsetRandomSampler(torch.arange(n_train-valid_split_idx, n_train))"
      ]
    },
    {
      "cell_type": "code",
      "execution_count": 13,
      "metadata": {
        "id": "4bZsjBKfAEMU"
      },
      "outputs": [],
      "source": [
        "# Create the data loader\n",
        "batch_size = 64\n",
        "train_loader = DataLoader(dataset=train_dataset,\n",
        "                          batch_size=batch_size,\n",
        "                          sampler=train_sampler,\n",
        "                          drop_last=True)\n",
        "\n",
        "valid_loader = DataLoader(dataset=valid_dataset,\n",
        "                          batch_size=batch_size,\n",
        "                          sampler=valid_sampler)\n",
        "\n",
        "test_loader = DataLoader(dataset=test_dataset,\n",
        "                         batch_size=batch_size,\n",
        "                         shuffle=False)"
      ]
    },
    {
      "cell_type": "markdown",
      "metadata": {
        "id": "ixkVsceHAIG1"
      },
      "source": [
        "- Great! We can check the dataset"
      ]
    },
    {
      "cell_type": "code",
      "execution_count": 15,
      "metadata": {
        "id": "rdGrMF_nAHd3",
        "colab": {
          "base_uri": "https://localhost:8080/"
        },
        "outputId": "9dea6283-a8b0-4f57-bfb1-4e9df2026a46"
      },
      "outputs": [
        {
          "output_type": "stream",
          "name": "stdout",
          "text": [
            "Image batch dimensions: torch.Size([64, 1, 28, 28])\n",
            "Image label dimensions: torch.Size([64])\n",
            "Class labels of 10 examples: tensor([0, 4, 5, 7, 0, 8, 3, 5, 1, 6])\n"
          ]
        }
      ],
      "source": [
        "# Checking the dataset\n",
        "for images, labels in train_loader:\n",
        "    print('Image batch dimensions:', images.shape)\n",
        "    print('Image label dimensions:', labels.shape)\n",
        "    print('Class labels of 10 examples:', labels[:10])\n",
        "    break"
      ]
    },
    {
      "cell_type": "markdown",
      "metadata": {
        "id": "qPZW-iylAVtm"
      },
      "source": [
        "# 2. Create Modular Function to Train and Evaluate\n",
        "---"
      ]
    },
    {
      "cell_type": "code",
      "execution_count": 16,
      "metadata": {
        "id": "SlR5IfuTAZJZ"
      },
      "outputs": [],
      "source": [
        "from torch.nn import functional as F"
      ]
    },
    {
      "cell_type": "code",
      "execution_count": 17,
      "metadata": {
        "id": "iDRNp0vpAf3w",
        "colab": {
          "base_uri": "https://localhost:8080/"
        },
        "outputId": "8e25c70d-1f2e-44b5-d9b9-e9c2af72fa28"
      },
      "outputs": [
        {
          "output_type": "stream",
          "name": "stdout",
          "text": [
            "torch.Size([1, 28, 28])\n",
            "torch.Size([1, 28, 28])\n",
            "torch.Size([1, 28, 28])\n",
            "torch.Size([1, 28, 28])\n"
          ]
        }
      ],
      "source": [
        "for i, (imgs, targets) in enumerate(train_dataset):\n",
        "    print(imgs.shape)\n",
        "\n",
        "    if i > 2:\n",
        "        break"
      ]
    },
    {
      "cell_type": "code",
      "execution_count": 18,
      "metadata": {
        "id": "cKFh4uZOAjHO",
        "colab": {
          "base_uri": "https://localhost:8080/"
        },
        "outputId": "7e150842-ba3a-4d77-de69-52020f456571"
      },
      "outputs": [
        {
          "output_type": "execute_result",
          "data": {
            "text/plain": [
              "torch.Size([60000, 28, 28])"
            ]
          },
          "metadata": {},
          "execution_count": 18
        }
      ],
      "source": [
        "train_dataset.data.shape"
      ]
    },
    {
      "cell_type": "code",
      "execution_count": 19,
      "metadata": {
        "id": "yGAwfU8jApnv"
      },
      "outputs": [],
      "source": [
        "@torch.no_grad()    # Tell PyTorch to exclude the gradient calculations\n",
        "def get_inference(model, type):\n",
        "    \"\"\"Get the model accuracy\"\"\"\n",
        "    # Get the data loader\n",
        "    data_loader = {\n",
        "        'train': train_loader,\n",
        "        'valid': valid_loader,\n",
        "        'test': test_loader\n",
        "    }[type]\n",
        "\n",
        "    correct_pred, num_samples, loss = 0, 0, 0.\n",
        "\n",
        "    model.eval()\n",
        "    for i, (imgs, targets) in enumerate(data_loader):\n",
        "        # Predict\n",
        "        logits = model(imgs)\n",
        "        probs = F.softmax(logits, dim=1)\n",
        "        _, preds = torch.max(probs, 1)\n",
        "\n",
        "        # Calculate acc & loss\n",
        "        correct_pred += (preds == targets).sum()\n",
        "        num_samples += targets.size(0)\n",
        "        loss += targets.size(0) * F.cross_entropy(logits, targets)\n",
        "\n",
        "    # Find the mean loss & acc\n",
        "    loss = loss / num_samples\n",
        "    acc = 100 * correct_pred.float()/num_samples\n",
        "\n",
        "    return acc, loss\n"
      ]
    },
    {
      "cell_type": "markdown",
      "metadata": {
        "id": "XrnCDWEOAuQB"
      },
      "source": [
        "- Next, we create the train function"
      ]
    },
    {
      "cell_type": "code",
      "execution_count": 20,
      "metadata": {
        "id": "R1bjY1wQAxFx"
      },
      "outputs": [],
      "source": [
        "import time"
      ]
    },
    {
      "cell_type": "code",
      "execution_count": 21,
      "metadata": {
        "id": "hOy6bYlaAyfU"
      },
      "outputs": [],
      "source": [
        "def train(model, max_epoch, train_loader, optimizer):\n",
        "    \"\"\"Train the model\"\"\"\n",
        "    # Initialize\n",
        "    train_acc_list = []\n",
        "    valid_acc_list = []\n",
        "    losses = []\n",
        "\n",
        "    # Start iteration\n",
        "    start_time = time.time()\n",
        "    for epoch in range(max_epoch):\n",
        "        # Training -- iterate over batch\n",
        "        model.train()\n",
        "        for batch_idx, (imgs, targets) in enumerate(train_loader):\n",
        "            # Forward pass\n",
        "            logits = model(imgs)\n",
        "            loss = F.cross_entropy(logits, targets)\n",
        "\n",
        "            # Backpropagation\n",
        "            model.zero_grad(set_to_none=True)\n",
        "            loss.backward()\n",
        "\n",
        "            # Update the model parameter\n",
        "            optimizer.step()\n",
        "\n",
        "            # Log the minibatch (inner iteration)\n",
        "            losses.append(loss.item())\n",
        "            if not batch_idx % int(len(train_loader)/2.):\n",
        "                print(f'Epoch: {epoch+1:03d}/{max_epoch:03d} '\n",
        "                      f'| Batch: {batch_idx:04d}/{len(train_loader):04d} '\n",
        "                      f'| Loss: {loss:.4f}')\n",
        "\n",
        "        # Inference\n",
        "        model.eval()\n",
        "        with torch.no_grad():\n",
        "            train_acc, _ = get_inference(model, 'train')\n",
        "            valid_acc, _ = get_inference(model, 'valid')\n",
        "\n",
        "            print(f'Epoch: {epoch+1:03d}/{max_epoch:03d} '\n",
        "                  f'| Train: {train_acc:.2f}% '\n",
        "                  f'| Valid: {valid_acc:.2f}%')\n",
        "            print('')\n",
        "\n",
        "            train_acc_list.append(train_acc.item())\n",
        "            valid_acc_list.append(valid_acc.item())\n",
        "\n",
        "    # Finalize\n",
        "    elapsed = (time.time() - start_time)/60\n",
        "    print(f'Total Training Time: {elapsed:.2f} min')\n",
        "\n",
        "    return losses, train_acc_list, valid_acc_list"
      ]
    },
    {
      "cell_type": "markdown",
      "metadata": {
        "id": "JrXY45uOA7nI"
      },
      "source": [
        "## Task 1: Create Model MLP & Train it\n",
        "---"
      ]
    },
    {
      "cell_type": "code",
      "execution_count": 22,
      "metadata": {
        "id": "gEHnbH6jA-oN"
      },
      "outputs": [],
      "source": [
        "import torch\n",
        "import torch.nn as nn\n",
        "from dataclasses import dataclass"
      ]
    },
    {
      "cell_type": "markdown",
      "metadata": {
        "id": "jg1eKxUDBAxh"
      },
      "source": [
        "- Create a config class"
      ]
    },
    {
      "cell_type": "code",
      "execution_count": 23,
      "metadata": {
        "id": "HeqS39W1BEK_"
      },
      "outputs": [],
      "source": [
        "@dataclass\n",
        "class ModelConfig:\n",
        "    # Config model\n",
        "    n_in: int = 784             # input size\n",
        "    n_hidden: int = 50          # hidden layer size\n",
        "    n_out: int = 10             # output size\n",
        "    drop_proba: float = 0.5     # dropout probability\n",
        "    lamda: float = 0.1          # regularizer strength\n",
        "\n",
        "    # Config train\n",
        "    lr: float = 0.1             # learning rates\n",
        "    max_epochs: int = 50        # maximum epochs"
      ]
    },
    {
      "cell_type": "code",
      "execution_count": 24,
      "metadata": {
        "id": "m6nZNiYIBGNf",
        "colab": {
          "base_uri": "https://localhost:8080/"
        },
        "outputId": "23f78c1a-bb68-496d-c5cc-0c6bf1f16498"
      },
      "outputs": [
        {
          "output_type": "execute_result",
          "data": {
            "text/plain": [
              "ModelConfig(n_in=784, n_hidden=50, n_out=10, drop_proba=0.5, lamda=0.1, lr=0.1, max_epochs=50)"
            ]
          },
          "metadata": {},
          "execution_count": 24
        }
      ],
      "source": [
        "CONFIG = ModelConfig()\n",
        "CONFIG"
      ]
    },
    {
      "cell_type": "markdown",
      "metadata": {
        "id": "QwOk-Iz3BKOK"
      },
      "source": [
        "- Now, lets initialize the model"
      ]
    },
    {
      "cell_type": "code",
      "execution_count": 25,
      "metadata": {
        "id": "G1_J8FGNBLpX"
      },
      "outputs": [],
      "source": [
        "class MLP(nn.Module):\n",
        "    def __init__(self, config):\n",
        "        super().__init__()\n",
        "\n",
        "        # Create the MLP\n",
        "        torch.manual_seed(42)\n",
        "        self.mlp = nn.Sequential(\n",
        "            # Flatten\n",
        "            nn.Flatten(),\n",
        "\n",
        "            # 1st hidden layer\n",
        "            nn.Linear(config.n_in, 2*config.n_hidden),\n",
        "            nn.ReLU(),\n",
        "\n",
        "            # Output layer\n",
        "            nn.Linear(2*config.n_hidden, config.n_out)\n",
        "        )\n",
        "\n",
        "    def forward(self, X):\n",
        "        logits = self.mlp(X)\n",
        "        return logits"
      ]
    },
    {
      "cell_type": "code",
      "execution_count": 26,
      "metadata": {
        "id": "DfW1JQ6eBPjb",
        "colab": {
          "base_uri": "https://localhost:8080/"
        },
        "outputId": "90075f27-6707-4fed-efc8-940879764605"
      },
      "outputs": [
        {
          "output_type": "stream",
          "name": "stdout",
          "text": [
            "Total parameters : 79510\n"
          ]
        }
      ],
      "source": [
        "# Initialize models\n",
        "model_mlp = MLP(CONFIG)\n",
        "\n",
        "# Print number of parameters\n",
        "print('Total parameters :', sum(p.nelement() for p in model_mlp.parameters()))"
      ]
    },
    {
      "cell_type": "markdown",
      "metadata": {
        "id": "Ldde0PAsBSyg"
      },
      "source": [
        "- Then, we start training"
      ]
    },
    {
      "cell_type": "code",
      "execution_count": 27,
      "metadata": {
        "id": "gcbPNfw9BYPV"
      },
      "outputs": [],
      "source": [
        "# Define optimizer\n",
        "optimizer_1 = torch.optim.SGD(params = model_mlp.parameters(),\n",
        "                              lr = CONFIG.lr)"
      ]
    },
    {
      "cell_type": "code",
      "execution_count": 28,
      "metadata": {
        "id": "W7LhgZhyBaGq",
        "colab": {
          "base_uri": "https://localhost:8080/"
        },
        "outputId": "446d5cf9-2aa6-482f-a1f9-5ca3014e1896"
      },
      "outputs": [
        {
          "output_type": "stream",
          "name": "stdout",
          "text": [
            "Epoch: 001/050 | Batch: 0000/0921 | Loss: 2.3259\n",
            "Epoch: 001/050 | Batch: 0460/0921 | Loss: 0.3795\n",
            "Epoch: 001/050 | Batch: 0920/0921 | Loss: 0.3748\n",
            "Epoch: 001/050 | Train: 83.93% | Valid: 83.80%\n",
            "\n",
            "Epoch: 002/050 | Batch: 0000/0921 | Loss: 0.4380\n",
            "Epoch: 002/050 | Batch: 0460/0921 | Loss: 0.5839\n",
            "Epoch: 002/050 | Batch: 0920/0921 | Loss: 0.3958\n",
            "Epoch: 002/050 | Train: 86.35% | Valid: 85.60%\n",
            "\n",
            "Epoch: 003/050 | Batch: 0000/0921 | Loss: 0.6048\n",
            "Epoch: 003/050 | Batch: 0460/0921 | Loss: 0.3306\n",
            "Epoch: 003/050 | Batch: 0920/0921 | Loss: 0.2106\n",
            "Epoch: 003/050 | Train: 86.52% | Valid: 86.60%\n",
            "\n",
            "Epoch: 004/050 | Batch: 0000/0921 | Loss: 0.4423\n",
            "Epoch: 004/050 | Batch: 0460/0921 | Loss: 0.3054\n",
            "Epoch: 004/050 | Batch: 0920/0921 | Loss: 0.2550\n",
            "Epoch: 004/050 | Train: 87.44% | Valid: 86.20%\n",
            "\n",
            "Epoch: 005/050 | Batch: 0000/0921 | Loss: 0.5491\n",
            "Epoch: 005/050 | Batch: 0460/0921 | Loss: 0.3628\n",
            "Epoch: 005/050 | Batch: 0920/0921 | Loss: 0.4444\n",
            "Epoch: 005/050 | Train: 87.60% | Valid: 86.60%\n",
            "\n",
            "Epoch: 006/050 | Batch: 0000/0921 | Loss: 0.4510\n",
            "Epoch: 006/050 | Batch: 0460/0921 | Loss: 0.4088\n",
            "Epoch: 006/050 | Batch: 0920/0921 | Loss: 0.3784\n",
            "Epoch: 006/050 | Train: 87.52% | Valid: 86.40%\n",
            "\n",
            "Epoch: 007/050 | Batch: 0000/0921 | Loss: 0.3304\n",
            "Epoch: 007/050 | Batch: 0460/0921 | Loss: 0.2553\n",
            "Epoch: 007/050 | Batch: 0920/0921 | Loss: 0.4928\n",
            "Epoch: 007/050 | Train: 88.87% | Valid: 88.60%\n",
            "\n",
            "Epoch: 008/050 | Batch: 0000/0921 | Loss: 0.5296\n",
            "Epoch: 008/050 | Batch: 0460/0921 | Loss: 0.4252\n",
            "Epoch: 008/050 | Batch: 0920/0921 | Loss: 0.3040\n",
            "Epoch: 008/050 | Train: 88.80% | Valid: 87.40%\n",
            "\n",
            "Epoch: 009/050 | Batch: 0000/0921 | Loss: 0.2668\n",
            "Epoch: 009/050 | Batch: 0460/0921 | Loss: 0.3025\n",
            "Epoch: 009/050 | Batch: 0920/0921 | Loss: 0.3199\n",
            "Epoch: 009/050 | Train: 89.31% | Valid: 87.70%\n",
            "\n",
            "Epoch: 010/050 | Batch: 0000/0921 | Loss: 0.1754\n",
            "Epoch: 010/050 | Batch: 0460/0921 | Loss: 0.3407\n",
            "Epoch: 010/050 | Batch: 0920/0921 | Loss: 0.3597\n",
            "Epoch: 010/050 | Train: 89.94% | Valid: 87.90%\n",
            "\n",
            "Epoch: 011/050 | Batch: 0000/0921 | Loss: 0.1959\n",
            "Epoch: 011/050 | Batch: 0460/0921 | Loss: 0.1476\n",
            "Epoch: 011/050 | Batch: 0920/0921 | Loss: 0.2005\n",
            "Epoch: 011/050 | Train: 90.53% | Valid: 88.80%\n",
            "\n",
            "Epoch: 012/050 | Batch: 0000/0921 | Loss: 0.2687\n",
            "Epoch: 012/050 | Batch: 0460/0921 | Loss: 0.1941\n",
            "Epoch: 012/050 | Batch: 0920/0921 | Loss: 0.3260\n",
            "Epoch: 012/050 | Train: 89.22% | Valid: 87.60%\n",
            "\n",
            "Epoch: 013/050 | Batch: 0000/0921 | Loss: 0.2873\n",
            "Epoch: 013/050 | Batch: 0460/0921 | Loss: 0.3894\n",
            "Epoch: 013/050 | Batch: 0920/0921 | Loss: 0.1981\n",
            "Epoch: 013/050 | Train: 90.21% | Valid: 87.70%\n",
            "\n",
            "Epoch: 014/050 | Batch: 0000/0921 | Loss: 0.1751\n",
            "Epoch: 014/050 | Batch: 0460/0921 | Loss: 0.1881\n",
            "Epoch: 014/050 | Batch: 0920/0921 | Loss: 0.2744\n",
            "Epoch: 014/050 | Train: 90.02% | Valid: 87.40%\n",
            "\n",
            "Epoch: 015/050 | Batch: 0000/0921 | Loss: 0.2740\n",
            "Epoch: 015/050 | Batch: 0460/0921 | Loss: 0.2532\n",
            "Epoch: 015/050 | Batch: 0920/0921 | Loss: 0.2708\n",
            "Epoch: 015/050 | Train: 91.05% | Valid: 89.00%\n",
            "\n",
            "Epoch: 016/050 | Batch: 0000/0921 | Loss: 0.2874\n",
            "Epoch: 016/050 | Batch: 0460/0921 | Loss: 0.1785\n",
            "Epoch: 016/050 | Batch: 0920/0921 | Loss: 0.3470\n",
            "Epoch: 016/050 | Train: 90.10% | Valid: 87.60%\n",
            "\n",
            "Epoch: 017/050 | Batch: 0000/0921 | Loss: 0.3136\n",
            "Epoch: 017/050 | Batch: 0460/0921 | Loss: 0.2742\n",
            "Epoch: 017/050 | Batch: 0920/0921 | Loss: 0.4101\n",
            "Epoch: 017/050 | Train: 90.76% | Valid: 88.80%\n",
            "\n",
            "Epoch: 018/050 | Batch: 0000/0921 | Loss: 0.2109\n",
            "Epoch: 018/050 | Batch: 0460/0921 | Loss: 0.1477\n",
            "Epoch: 018/050 | Batch: 0920/0921 | Loss: 0.1941\n",
            "Epoch: 018/050 | Train: 91.03% | Valid: 88.60%\n",
            "\n",
            "Epoch: 019/050 | Batch: 0000/0921 | Loss: 0.2491\n",
            "Epoch: 019/050 | Batch: 0460/0921 | Loss: 0.1893\n",
            "Epoch: 019/050 | Batch: 0920/0921 | Loss: 0.2116\n",
            "Epoch: 019/050 | Train: 91.71% | Valid: 88.90%\n",
            "\n",
            "Epoch: 020/050 | Batch: 0000/0921 | Loss: 0.1714\n",
            "Epoch: 020/050 | Batch: 0460/0921 | Loss: 0.1944\n",
            "Epoch: 020/050 | Batch: 0920/0921 | Loss: 0.1410\n",
            "Epoch: 020/050 | Train: 92.05% | Valid: 89.10%\n",
            "\n",
            "Epoch: 021/050 | Batch: 0000/0921 | Loss: 0.2540\n",
            "Epoch: 021/050 | Batch: 0460/0921 | Loss: 0.1741\n",
            "Epoch: 021/050 | Batch: 0920/0921 | Loss: 0.2350\n",
            "Epoch: 021/050 | Train: 92.03% | Valid: 89.40%\n",
            "\n",
            "Epoch: 022/050 | Batch: 0000/0921 | Loss: 0.1618\n",
            "Epoch: 022/050 | Batch: 0460/0921 | Loss: 0.2265\n",
            "Epoch: 022/050 | Batch: 0920/0921 | Loss: 0.3065\n",
            "Epoch: 022/050 | Train: 91.14% | Valid: 87.50%\n",
            "\n",
            "Epoch: 023/050 | Batch: 0000/0921 | Loss: 0.1916\n",
            "Epoch: 023/050 | Batch: 0460/0921 | Loss: 0.2558\n",
            "Epoch: 023/050 | Batch: 0920/0921 | Loss: 0.2160\n",
            "Epoch: 023/050 | Train: 91.78% | Valid: 88.10%\n",
            "\n",
            "Epoch: 024/050 | Batch: 0000/0921 | Loss: 0.2184\n",
            "Epoch: 024/050 | Batch: 0460/0921 | Loss: 0.2907\n",
            "Epoch: 024/050 | Batch: 0920/0921 | Loss: 0.1659\n",
            "Epoch: 024/050 | Train: 92.03% | Valid: 89.10%\n",
            "\n",
            "Epoch: 025/050 | Batch: 0000/0921 | Loss: 0.1941\n",
            "Epoch: 025/050 | Batch: 0460/0921 | Loss: 0.2078\n",
            "Epoch: 025/050 | Batch: 0920/0921 | Loss: 0.1572\n",
            "Epoch: 025/050 | Train: 91.63% | Valid: 89.00%\n",
            "\n",
            "Epoch: 026/050 | Batch: 0000/0921 | Loss: 0.3428\n",
            "Epoch: 026/050 | Batch: 0460/0921 | Loss: 0.3932\n",
            "Epoch: 026/050 | Batch: 0920/0921 | Loss: 0.2727\n",
            "Epoch: 026/050 | Train: 92.56% | Valid: 89.60%\n",
            "\n",
            "Epoch: 027/050 | Batch: 0000/0921 | Loss: 0.1219\n",
            "Epoch: 027/050 | Batch: 0460/0921 | Loss: 0.2244\n",
            "Epoch: 027/050 | Batch: 0920/0921 | Loss: 0.2771\n",
            "Epoch: 027/050 | Train: 91.98% | Valid: 89.20%\n",
            "\n",
            "Epoch: 028/050 | Batch: 0000/0921 | Loss: 0.1589\n",
            "Epoch: 028/050 | Batch: 0460/0921 | Loss: 0.1080\n",
            "Epoch: 028/050 | Batch: 0920/0921 | Loss: 0.1667\n",
            "Epoch: 028/050 | Train: 92.63% | Valid: 88.70%\n",
            "\n",
            "Epoch: 029/050 | Batch: 0000/0921 | Loss: 0.1319\n",
            "Epoch: 029/050 | Batch: 0460/0921 | Loss: 0.2387\n",
            "Epoch: 029/050 | Batch: 0920/0921 | Loss: 0.1375\n",
            "Epoch: 029/050 | Train: 92.53% | Valid: 89.20%\n",
            "\n",
            "Epoch: 030/050 | Batch: 0000/0921 | Loss: 0.1082\n",
            "Epoch: 030/050 | Batch: 0460/0921 | Loss: 0.2164\n",
            "Epoch: 030/050 | Batch: 0920/0921 | Loss: 0.0960\n",
            "Epoch: 030/050 | Train: 92.86% | Valid: 89.50%\n",
            "\n",
            "Epoch: 031/050 | Batch: 0000/0921 | Loss: 0.2249\n",
            "Epoch: 031/050 | Batch: 0460/0921 | Loss: 0.1575\n",
            "Epoch: 031/050 | Batch: 0920/0921 | Loss: 0.2636\n",
            "Epoch: 031/050 | Train: 91.90% | Valid: 88.70%\n",
            "\n",
            "Epoch: 032/050 | Batch: 0000/0921 | Loss: 0.3173\n",
            "Epoch: 032/050 | Batch: 0460/0921 | Loss: 0.2029\n",
            "Epoch: 032/050 | Batch: 0920/0921 | Loss: 0.1210\n",
            "Epoch: 032/050 | Train: 92.79% | Valid: 88.30%\n",
            "\n",
            "Epoch: 033/050 | Batch: 0000/0921 | Loss: 0.1762\n",
            "Epoch: 033/050 | Batch: 0460/0921 | Loss: 0.3009\n",
            "Epoch: 033/050 | Batch: 0920/0921 | Loss: 0.0747\n",
            "Epoch: 033/050 | Train: 93.52% | Valid: 89.40%\n",
            "\n",
            "Epoch: 034/050 | Batch: 0000/0921 | Loss: 0.2112\n",
            "Epoch: 034/050 | Batch: 0460/0921 | Loss: 0.2258\n",
            "Epoch: 034/050 | Batch: 0920/0921 | Loss: 0.1065\n",
            "Epoch: 034/050 | Train: 93.55% | Valid: 89.70%\n",
            "\n",
            "Epoch: 035/050 | Batch: 0000/0921 | Loss: 0.2635\n",
            "Epoch: 035/050 | Batch: 0460/0921 | Loss: 0.1524\n",
            "Epoch: 035/050 | Batch: 0920/0921 | Loss: 0.2129\n",
            "Epoch: 035/050 | Train: 93.51% | Valid: 89.10%\n",
            "\n",
            "Epoch: 036/050 | Batch: 0000/0921 | Loss: 0.2612\n",
            "Epoch: 036/050 | Batch: 0460/0921 | Loss: 0.1838\n",
            "Epoch: 036/050 | Batch: 0920/0921 | Loss: 0.0956\n",
            "Epoch: 036/050 | Train: 93.36% | Valid: 88.40%\n",
            "\n",
            "Epoch: 037/050 | Batch: 0000/0921 | Loss: 0.1363\n",
            "Epoch: 037/050 | Batch: 0460/0921 | Loss: 0.0814\n",
            "Epoch: 037/050 | Batch: 0920/0921 | Loss: 0.0703\n",
            "Epoch: 037/050 | Train: 93.57% | Valid: 88.70%\n",
            "\n",
            "Epoch: 038/050 | Batch: 0000/0921 | Loss: 0.1727\n",
            "Epoch: 038/050 | Batch: 0460/0921 | Loss: 0.1910\n",
            "Epoch: 038/050 | Batch: 0920/0921 | Loss: 0.2508\n",
            "Epoch: 038/050 | Train: 93.90% | Valid: 89.50%\n",
            "\n",
            "Epoch: 039/050 | Batch: 0000/0921 | Loss: 0.1416\n",
            "Epoch: 039/050 | Batch: 0460/0921 | Loss: 0.1317\n",
            "Epoch: 039/050 | Batch: 0920/0921 | Loss: 0.2306\n",
            "Epoch: 039/050 | Train: 92.65% | Valid: 88.50%\n",
            "\n",
            "Epoch: 040/050 | Batch: 0000/0921 | Loss: 0.2743\n",
            "Epoch: 040/050 | Batch: 0460/0921 | Loss: 0.1932\n",
            "Epoch: 040/050 | Batch: 0920/0921 | Loss: 0.1542\n",
            "Epoch: 040/050 | Train: 93.82% | Valid: 88.60%\n",
            "\n",
            "Epoch: 041/050 | Batch: 0000/0921 | Loss: 0.2606\n",
            "Epoch: 041/050 | Batch: 0460/0921 | Loss: 0.2381\n",
            "Epoch: 041/050 | Batch: 0920/0921 | Loss: 0.2602\n",
            "Epoch: 041/050 | Train: 93.65% | Valid: 88.50%\n",
            "\n",
            "Epoch: 042/050 | Batch: 0000/0921 | Loss: 0.1170\n",
            "Epoch: 042/050 | Batch: 0460/0921 | Loss: 0.1765\n",
            "Epoch: 042/050 | Batch: 0920/0921 | Loss: 0.2648\n",
            "Epoch: 042/050 | Train: 94.31% | Valid: 89.30%\n",
            "\n",
            "Epoch: 043/050 | Batch: 0000/0921 | Loss: 0.1798\n",
            "Epoch: 043/050 | Batch: 0460/0921 | Loss: 0.0930\n",
            "Epoch: 043/050 | Batch: 0920/0921 | Loss: 0.1841\n",
            "Epoch: 043/050 | Train: 93.81% | Valid: 89.20%\n",
            "\n",
            "Epoch: 044/050 | Batch: 0000/0921 | Loss: 0.3026\n",
            "Epoch: 044/050 | Batch: 0460/0921 | Loss: 0.2725\n",
            "Epoch: 044/050 | Batch: 0920/0921 | Loss: 0.1258\n",
            "Epoch: 044/050 | Train: 94.13% | Valid: 89.80%\n",
            "\n",
            "Epoch: 045/050 | Batch: 0000/0921 | Loss: 0.0885\n",
            "Epoch: 045/050 | Batch: 0460/0921 | Loss: 0.2102\n",
            "Epoch: 045/050 | Batch: 0920/0921 | Loss: 0.1304\n",
            "Epoch: 045/050 | Train: 94.39% | Valid: 88.70%\n",
            "\n",
            "Epoch: 046/050 | Batch: 0000/0921 | Loss: 0.1414\n",
            "Epoch: 046/050 | Batch: 0460/0921 | Loss: 0.1661\n",
            "Epoch: 046/050 | Batch: 0920/0921 | Loss: 0.3282\n",
            "Epoch: 046/050 | Train: 93.61% | Valid: 88.20%\n",
            "\n",
            "Epoch: 047/050 | Batch: 0000/0921 | Loss: 0.1630\n",
            "Epoch: 047/050 | Batch: 0460/0921 | Loss: 0.0968\n",
            "Epoch: 047/050 | Batch: 0920/0921 | Loss: 0.1204\n",
            "Epoch: 047/050 | Train: 94.47% | Valid: 89.20%\n",
            "\n",
            "Epoch: 048/050 | Batch: 0000/0921 | Loss: 0.0691\n",
            "Epoch: 048/050 | Batch: 0460/0921 | Loss: 0.3294\n",
            "Epoch: 048/050 | Batch: 0920/0921 | Loss: 0.1890\n",
            "Epoch: 048/050 | Train: 94.34% | Valid: 88.40%\n",
            "\n",
            "Epoch: 049/050 | Batch: 0000/0921 | Loss: 0.2470\n",
            "Epoch: 049/050 | Batch: 0460/0921 | Loss: 0.1862\n",
            "Epoch: 049/050 | Batch: 0920/0921 | Loss: 0.1291\n",
            "Epoch: 049/050 | Train: 94.98% | Valid: 89.20%\n",
            "\n",
            "Epoch: 050/050 | Batch: 0000/0921 | Loss: 0.1413\n",
            "Epoch: 050/050 | Batch: 0460/0921 | Loss: 0.1864\n",
            "Epoch: 050/050 | Batch: 0920/0921 | Loss: 0.1999\n",
            "Epoch: 050/050 | Train: 94.85% | Valid: 89.40%\n",
            "\n",
            "Total Training Time: 17.63 min\n"
          ]
        }
      ],
      "source": [
        "losses_mlp, train_acc_mlp, valid_acc_mlp = train(model=model_mlp,\n",
        "                                                 max_epoch=CONFIG.max_epochs,\n",
        "                                                 train_loader=train_loader,\n",
        "                                                 optimizer=optimizer_1)"
      ]
    },
    {
      "cell_type": "markdown",
      "metadata": {
        "id": "kgyUovLPBmh8"
      },
      "source": [
        "- Plot the loss & accuracy"
      ]
    },
    {
      "cell_type": "code",
      "execution_count": 29,
      "metadata": {
        "id": "W5NJB3tCBlL5"
      },
      "outputs": [],
      "source": [
        "import numpy as np"
      ]
    },
    {
      "cell_type": "code",
      "execution_count": 30,
      "metadata": {
        "id": "83W8Z3DTBqGY",
        "colab": {
          "base_uri": "https://localhost:8080/",
          "height": 430
        },
        "outputId": "187c4ac1-0b5e-4063-e33b-4de7d8d44ac2"
      },
      "outputs": [
        {
          "output_type": "display_data",
          "data": {
            "text/plain": [
              "<Figure size 640x480 with 1 Axes>"
            ],
            "image/png": "[encoded data removed]"
          },
          "metadata": {}
        }
      ],
      "source": [
        "plt.plot(np.arange(len(losses_mlp)), losses_mlp, c='tab:blue', label='minibatch loss')\n",
        "plt.legend()\n",
        "plt.show()"
      ]
    },
    {
      "cell_type": "code",
      "execution_count": 31,
      "metadata": {
        "id": "VQqQhCy4Bv5G",
        "colab": {
          "base_uri": "https://localhost:8080/",
          "height": 455
        },
        "outputId": "cccae9ac-d00b-46cb-9be4-2dc33be19799"
      },
      "outputs": [
        {
          "output_type": "display_data",
          "data": {
            "text/plain": [
              "<Figure size 640x480 with 1 Axes>"
            ],
            "image/png": "[encoded data removed]"
          },
          "metadata": {}
        }
      ],
      "source": [
        "plt.plot(np.arange(len(train_acc_mlp)), train_acc_mlp, c='tab:blue', label='train')\n",
        "plt.plot(np.arange(len(valid_acc_mlp)), valid_acc_mlp, c='tab:orange', label='valid')\n",
        "plt.ylabel('% Accuracy'); plt.xlabel('Epoch')\n",
        "plt.ylim(75, 100)\n",
        "plt.legend()\n",
        "plt.show()"
      ]
    },
    {
      "cell_type": "markdown",
      "metadata": {
        "id": "4JPnVd9hBz3A"
      },
      "source": [
        "- Validate on train & valid data"
      ]
    },
    {
      "cell_type": "code",
      "execution_count": 32,
      "metadata": {
        "id": "7_oKulDIB3yL"
      },
      "outputs": [],
      "source": [
        "# Calculate\n",
        "train_acc_mlp, train_loss_mlp = get_inference(model_mlp, 'train')\n",
        "valid_acc_mlp, valid_loss_mlp = get_inference(model_mlp, 'valid')"
      ]
    },
    {
      "cell_type": "code",
      "execution_count": 33,
      "metadata": {
        "id": "-Au8SbBoB5aC"
      },
      "outputs": [],
      "source": [
        "import pandas as pd"
      ]
    },
    {
      "cell_type": "code",
      "execution_count": 34,
      "metadata": {
        "id": "NEhIeiJdB7OD",
        "colab": {
          "base_uri": "https://localhost:8080/",
          "height": 89
        },
        "outputId": "10a57033-bf51-462f-9d6b-d791c23b3e20"
      },
      "outputs": [
        {
          "output_type": "execute_result",
          "data": {
            "text/plain": [
              "     Train Acc  Valid Acc  Train Loss  Valid Loss\n",
              "MLP  94.854439  89.400002    0.145692    0.323509"
            ],
            "text/html": [
              "\n",
              "  <div id=\"df-270ab1b3-bd0e-4868-b251-f40851924f0b\" class=\"colab-df-container\">\n",
              "    <div>\n",
              "<style scoped>\n",
              "    .dataframe tbody tr th:only-of-type {\n",
              "        vertical-align: middle;\n",
              "    }\n",
              "\n",
              "    .dataframe tbody tr th {\n",
              "        vertical-align: top;\n",
              "    }\n",
              "\n",
              "    .dataframe thead th {\n",
              "        text-align: right;\n",
              "    }\n",
              "</style>\n",
              "<table border=\"1\" class=\"dataframe\">\n",
              "  <thead>\n",
              "    <tr style=\"text-align: right;\">\n",
              "      <th></th>\n",
              "      <th>Train Acc</th>\n",
              "      <th>Valid Acc</th>\n",
              "      <th>Train Loss</th>\n",
              "      <th>Valid Loss</th>\n",
              "    </tr>\n",
              "  </thead>\n",
              "  <tbody>\n",
              "    <tr>\n",
              "      <th>MLP</th>\n",
              "      <td>94.854439</td>\n",
              "      <td>89.400002</td>\n",
              "      <td>0.145692</td>\n",
              "      <td>0.323509</td>\n",
              "    </tr>\n",
              "  </tbody>\n",
              "</table>\n",
              "</div>\n",
              "    <div class=\"colab-df-buttons\">\n",
              "\n",
              "  <div class=\"colab-df-container\">\n",
              "    <button class=\"colab-df-convert\" onclick=\"convertToInteractive('df-270ab1b3-bd0e-4868-b251-f40851924f0b')\"\n",
              "            title=\"Convert this dataframe to an interactive table.\"\n",
              "            style=\"display:none;\">\n",
              "\n",
              "  <svg xmlns=\"http://www.w3.org/2000/svg\" height=\"24px\" viewBox=\"0 -960 960 960\">\n",
              "    <path d=\"M120-120v-720h720v720H120Zm60-500h600v-160H180v160Zm220 220h160v-160H400v160Zm0 220h160v-160H400v160ZM180-400h160v-160H180v160Zm440 0h160v-160H620v160ZM180-180h160v-160H180v160Zm440 0h160v-160H620v160Z\"/>\n",
              "  </svg>\n",
              "    </button>\n",
              "\n",
              "  <style>\n",
              "    .colab-df-container {\n",
              "      display:flex;\n",
              "      gap: 12px;\n",
              "    }\n",
              "\n",
              "    .colab-df-convert {\n",
              "      background-color: #E8F0FE;\n",
              "      border: none;\n",
              "      border-radius: 50%;\n",
              "      cursor: pointer;\n",
              "      display: none;\n",
              "      fill: #1967D2;\n",
              "      height: 32px;\n",
              "      padding: 0 0 0 0;\n",
              "      width: 32px;\n",
              "    }\n",
              "\n",
              "    .colab-df-convert:hover {\n",
              "      background-color: #E2EBFA;\n",
              "      box-shadow: 0px 1px 2px rgba(60, 64, 67, 0.3), 0px 1px 3px 1px rgba(60, 64, 67, 0.15);\n",
              "      fill: #174EA6;\n",
              "    }\n",
              "\n",
              "    .colab-df-buttons div {\n",
              "      margin-bottom: 4px;\n",
              "    }\n",
              "\n",
              "    [theme=dark] .colab-df-convert {\n",
              "      background-color: #3B4455;\n",
              "      fill: #D2E3FC;\n",
              "    }\n",
              "\n",
              "    [theme=dark] .colab-df-convert:hover {\n",
              "      background-color: #434B5C;\n",
              "      box-shadow: 0px 1px 3px 1px rgba(0, 0, 0, 0.15);\n",
              "      filter: drop-shadow(0px 1px 2px rgba(0, 0, 0, 0.3));\n",
              "      fill: #FFFFFF;\n",
              "    }\n",
              "  </style>\n",
              "\n",
              "    <script>\n",
              "      const buttonEl =\n",
              "        document.querySelector('#df-270ab1b3-bd0e-4868-b251-f40851924f0b button.colab-df-convert');\n",
              "      buttonEl.style.display =\n",
              "        google.colab.kernel.accessAllowed ? 'block' : 'none';\n",
              "\n",
              "      async function convertToInteractive(key) {\n",
              "        const element = document.querySelector('#df-270ab1b3-bd0e-4868-b251-f40851924f0b');\n",
              "        const dataTable =\n",
              "          await google.colab.kernel.invokeFunction('convertToInteractive',\n",
              "                                                    [key], {});\n",
              "        if (!dataTable) return;\n",
              "\n",
              "        const docLinkHtml = 'Like what you see? Visit the ' +\n",
              "          '<a target=\"_blank\" href=https://colab.research.google.com/notebooks/data_table.ipynb>data table notebook</a>'\n",
              "          + ' to learn more about interactive tables.';\n",
              "        element.innerHTML = '';\n",
              "        dataTable['output_type'] = 'display_data';\n",
              "        await google.colab.output.renderOutput(dataTable, element);\n",
              "        const docLink = document.createElement('div');\n",
              "        docLink.innerHTML = docLinkHtml;\n",
              "        element.appendChild(docLink);\n",
              "      }\n",
              "    </script>\n",
              "  </div>\n",
              "\n",
              "\n",
              "  <div id=\"id_36559dd8-c2e7-486c-83e2-11eea00d9225\">\n",
              "    <style>\n",
              "      .colab-df-generate {\n",
              "        background-color: #E8F0FE;\n",
              "        border: none;\n",
              "        border-radius: 50%;\n",
              "        cursor: pointer;\n",
              "        display: none;\n",
              "        fill: #1967D2;\n",
              "        height: 32px;\n",
              "        padding: 0 0 0 0;\n",
              "        width: 32px;\n",
              "      }\n",
              "\n",
              "      .colab-df-generate:hover {\n",
              "        background-color: #E2EBFA;\n",
              "        box-shadow: 0px 1px 2px rgba(60, 64, 67, 0.3), 0px 1px 3px 1px rgba(60, 64, 67, 0.15);\n",
              "        fill: #174EA6;\n",
              "      }\n",
              "\n",
              "      [theme=dark] .colab-df-generate {\n",
              "        background-color: #3B4455;\n",
              "        fill: #D2E3FC;\n",
              "      }\n",
              "\n",
              "      [theme=dark] .colab-df-generate:hover {\n",
              "        background-color: #434B5C;\n",
              "        box-shadow: 0px 1px 3px 1px rgba(0, 0, 0, 0.15);\n",
              "        filter: drop-shadow(0px 1px 2px rgba(0, 0, 0, 0.3));\n",
              "        fill: #FFFFFF;\n",
              "      }\n",
              "    </style>\n",
              "    <button class=\"colab-df-generate\" onclick=\"generateWithVariable('summary_df')\"\n",
              "            title=\"Generate code using this dataframe.\"\n",
              "            style=\"display:none;\">\n",
              "\n",
              "  <svg xmlns=\"http://www.w3.org/2000/svg\" height=\"24px\"viewBox=\"0 0 24 24\"\n",
              "       width=\"24px\">\n",
              "    <path d=\"M7,19H8.4L18.45,9,17,7.55,7,17.6ZM5,21V16.75L18.45,3.32a2,2,0,0,1,2.83,0l1.4,1.43a1.91,1.91,0,0,1,.58,1.4,1.91,1.91,0,0,1-.58,1.4L9.25,21ZM18.45,9,17,7.55Zm-12,3A5.31,5.31,0,0,0,4.9,8.1,5.31,5.31,0,0,0,1,6.5,5.31,5.31,0,0,0,4.9,4.9,5.31,5.31,0,0,0,6.5,1,5.31,5.31,0,0,0,8.1,4.9,5.31,5.31,0,0,0,12,6.5,5.46,5.46,0,0,0,6.5,12Z\"/>\n",
              "  </svg>\n",
              "    </button>\n",
              "    <script>\n",
              "      (() => {\n",
              "      const buttonEl =\n",
              "        document.querySelector('#id_36559dd8-c2e7-486c-83e2-11eea00d9225 button.colab-df-generate');\n",
              "      buttonEl.style.display =\n",
              "        google.colab.kernel.accessAllowed ? 'block' : 'none';\n",
              "\n",
              "      buttonEl.onclick = () => {\n",
              "        google.colab.notebook.generateWithVariable('summary_df');\n",
              "      }\n",
              "      })();\n",
              "    </script>\n",
              "  </div>\n",
              "\n",
              "    </div>\n",
              "  </div>\n"
            ],
            "application/vnd.google.colaboratory.intrinsic+json": {
              "type": "dataframe",
              "variable_name": "summary_df",
              "summary": "{\n  \"name\": \"summary_df\",\n  \"rows\": 1,\n  \"fields\": [\n    {\n      \"column\": \"Train Acc\",\n      \"properties\": {\n        \"dtype\": \"float32\",\n        \"num_unique_values\": 1,\n        \"samples\": [\n          94.85443878173828\n        ],\n        \"semantic_type\": \"\",\n        \"description\": \"\"\n      }\n    },\n    {\n      \"column\": \"Valid Acc\",\n      \"properties\": {\n        \"dtype\": \"float32\",\n        \"num_unique_values\": 1,\n        \"samples\": [\n          89.4000015258789\n        ],\n        \"semantic_type\": \"\",\n        \"description\": \"\"\n      }\n    },\n    {\n      \"column\": \"Train Loss\",\n      \"properties\": {\n        \"dtype\": \"float32\",\n        \"num_unique_values\": 1,\n        \"samples\": [\n          0.14569170773029327\n        ],\n        \"semantic_type\": \"\",\n        \"description\": \"\"\n      }\n    },\n    {\n      \"column\": \"Valid Loss\",\n      \"properties\": {\n        \"dtype\": \"float32\",\n        \"num_unique_values\": 1,\n        \"samples\": [\n          0.3235092759132385\n        ],\n        \"semantic_type\": \"\",\n        \"description\": \"\"\n      }\n    }\n  ]\n}"
            }
          },
          "metadata": {},
          "execution_count": 34
        }
      ],
      "source": [
        "# Summarize in dataframe\n",
        "summary_df = pd.DataFrame(\n",
        "    np.array([[train_acc_mlp, valid_acc_mlp, train_loss_mlp, valid_loss_mlp]]),\n",
        "    index = ['MLP'],\n",
        "    columns = ['Train Acc', 'Valid Acc', 'Train Loss', 'Valid Loss']\n",
        ")\n",
        "\n",
        "summary_df"
      ]
    },
    {
      "cell_type": "markdown",
      "metadata": {
        "id": "vzSj2zSrB-8n"
      },
      "source": [
        "- Finally, we predict the model samples"
      ]
    },
    {
      "cell_type": "code",
      "execution_count": 35,
      "metadata": {
        "id": "qynmN1BACA7b"
      },
      "outputs": [],
      "source": [
        "# Get the samples data\n",
        "X_samples, y_samples = next(iter(valid_loader))"
      ]
    },
    {
      "cell_type": "code",
      "execution_count": 36,
      "metadata": {
        "id": "NoVQ91EbCD5U",
        "colab": {
          "base_uri": "https://localhost:8080/"
        },
        "outputId": "2392821d-9dce-4a18-b7e3-453cb731c9c2"
      },
      "outputs": [
        {
          "output_type": "execute_result",
          "data": {
            "text/plain": [
              "tensor([6, 5, 3, 6, 7, 8, 0, 4, 9, 4, 9, 7, 3, 1, 3, 0, 2, 9, 1, 7, 2, 7, 5, 0,\n",
              "        0, 7, 0, 8, 1, 2, 6, 6, 1, 2, 1, 4, 7, 7, 4, 9, 8, 7, 7, 1, 0, 0, 5, 3,\n",
              "        6, 2, 5, 1, 5, 0, 6, 4, 0, 8, 8, 8, 1, 9, 2, 5])"
            ]
          },
          "metadata": {},
          "execution_count": 36
        }
      ],
      "source": [
        "# Get prediction\n",
        "model_mlp.eval()\n",
        "with torch.no_grad():\n",
        "    logits_sample = model_mlp(X_samples)\n",
        "    probs_sample = F.softmax(logits_sample, dim=1)\n",
        "    y_samples_pred = probs_sample.max(1, keepdim=True)[1].view(-1)\n",
        "\n",
        "y_samples_pred"
      ]
    },
    {
      "cell_type": "code",
      "execution_count": 37,
      "metadata": {
        "id": "rkrjqZGcCH-5",
        "colab": {
          "base_uri": "https://localhost:8080/",
          "height": 651
        },
        "outputId": "ca39c933-7aed-422d-8e82-05f801653c9c"
      },
      "outputs": [
        {
          "output_type": "display_data",
          "data": {
            "text/plain": [
              "<Figure size 1200x800 with 32 Axes>"
            ],
            "image/png": "[encoded data removed]"
          },
          "metadata": {}
        }
      ],
      "source": [
        "fig, axes = plt.subplots(ncols=8, nrows=4, figsize=(12, 8))\n",
        "index = 0\n",
        "for i in range(4):\n",
        "    for j in range(8):\n",
        "        act_label = labels_map[y_samples[index].item()]\n",
        "        pred_label = labels_map[y_samples_pred[index].item()]\n",
        "        if act_label==pred_label:\n",
        "            color = 'g'\n",
        "        else:\n",
        "            color = 'r'\n",
        "        axes[i,j].set_title(f'act: {act_label}\\npred: {pred_label}', color=color, size=9)\n",
        "        axes[i,j].imshow(X_samples[index].squeeze(), cmap='gray')\n",
        "        axes[i,j].get_xaxis().set_visible(False)\n",
        "        axes[i,j].get_yaxis().set_visible(False)\n",
        "        index += 1\n",
        "plt.show()"
      ]
    },
    {
      "cell_type": "markdown",
      "metadata": {
        "id": "u4GW_0bMCNxf"
      },
      "source": [
        "## Task 2: Create a Deeper Model MLP & Train it\n",
        "---"
      ]
    },
    {
      "cell_type": "markdown",
      "metadata": {
        "id": "NGnR_S7ACT6h"
      },
      "source": [
        "- Create the model class"
      ]
    },
    {
      "cell_type": "code",
      "execution_count": null,
      "metadata": {
        "id": "7po2ot7lCXzr"
      },
      "outputs": [],
      "source": [
        "class MLPDeeper(nn.Module):\n",
        "    def __init__(self, config):\n",
        "        super().__init__()\n",
        "\n",
        "        # Create the MLP\n",
        "        torch.manual_seed(42)\n",
        "        self.mlp = nn.Sequential(\n",
        "            # Input layer\n",
        "            nn.Flatten(),\n",
        "\n",
        "            # 1st hidden layer\n",
        "            nn.Linear(config.n_in, config.n_hidden),\n",
        "            nn.ReLU(),\n",
        "\n",
        "            # 2nd hidden layer\n",
        "            nn.Linear(config.n_hidden, config.n_hidden),\n",
        "            nn.ReLU(),\n",
        "\n",
        "            # Output layer\n",
        "            nn.Linear(config.n_hidden, config.n_out)\n",
        "        )\n",
        "\n",
        "    def forward(self, X):\n",
        "        logits = self.mlp(X)\n",
        "        return logits"
      ]
    },
    {
      "cell_type": "code",
      "execution_count": null,
      "metadata": {
        "id": "g4x9EYGSCaqz"
      },
      "outputs": [],
      "source": [
        "# Initialize models\n",
        "model_mlp_deeper = MLPDeeper(CONFIG)\n",
        "\n",
        "# Print number of parameters\n",
        "print('Total parameters :', sum(p.nelement() for p in model_mlp_deeper.parameters()))"
      ]
    },
    {
      "cell_type": "markdown",
      "metadata": {
        "id": "oC66bm52CdMb"
      },
      "source": [
        "- Then, we start training"
      ]
    },
    {
      "cell_type": "code",
      "execution_count": null,
      "metadata": {
        "id": "ynKyFbtBCfeA"
      },
      "outputs": [],
      "source": [
        "# Define optimizer\n",
        "optimizer_2 = torch.optim.SGD(params = model_mlp_deeper.parameters(),\n",
        "                              lr = CONFIG.lr)"
      ]
    },
    {
      "cell_type": "code",
      "execution_count": null,
      "metadata": {
        "colab": {
          "background_save": true
        },
        "id": "ygwpv5v_ChLw"
      },
      "outputs": [],
      "source": [
        "losses_mlp_deeper, train_acc_mlp_deeper, valid_acc_mlp_deeper = train(model=model_mlp_deeper,\n",
        "                                                                      max_epoch=CONFIG.max_epochs,\n",
        "                                                                      train_loader=train_loader,\n",
        "                                                                      optimizer=optimizer_2)"
      ]
    },
    {
      "cell_type": "markdown",
      "metadata": {
        "id": "SKIfGfr8CkxI"
      },
      "source": [
        "- Plot the loss & accuracy"
      ]
    },
    {
      "cell_type": "code",
      "execution_count": null,
      "metadata": {
        "colab": {
          "background_save": true
        },
        "id": "P0tD2j7PCpmj"
      },
      "outputs": [],
      "source": [
        "plt.plot(np.arange(len(losses_mlp_deeper)),\n",
        "         losses_mlp_deeper,\n",
        "         c='tab:blue',\n",
        "         label='minibatch loss')\n",
        "\n",
        "plt.legend()\n",
        "plt.show()"
      ]
    },
    {
      "cell_type": "code",
      "execution_count": null,
      "metadata": {
        "colab": {
          "background_save": true
        },
        "id": "R-qdC37tCvax"
      },
      "outputs": [],
      "source": [
        "plt.plot(np.arange(len(train_acc_mlp_deeper)),\n",
        "         train_acc_mlp_deeper,\n",
        "         c='tab:blue',\n",
        "         label='train')\n",
        "\n",
        "plt.plot(np.arange(len(valid_acc_mlp_deeper)),\n",
        "         valid_acc_mlp_deeper,\n",
        "         c='tab:orange',\n",
        "         label='valid')\n",
        "\n",
        "plt.ylabel('% Accuracy'); plt.xlabel('Epoch')\n",
        "plt.ylim(75, 100)\n",
        "plt.legend()\n",
        "plt.show()"
      ]
    },
    {
      "cell_type": "code",
      "execution_count": null,
      "metadata": {
        "colab": {
          "background_save": true
        },
        "id": "ydRk0eLDC25F"
      },
      "outputs": [],
      "source": [
        "# Calculate\n",
        "train_acc_mlp_deeper, train_loss_mlp_deeper = get_inference(model_mlp_deeper, 'train')\n",
        "valid_acc_mlp_deeper, valid_loss_mlp_deeper = get_inference(model_mlp_deeper, 'valid')"
      ]
    },
    {
      "cell_type": "code",
      "execution_count": null,
      "metadata": {
        "colab": {
          "background_save": true
        },
        "id": "8b6v4xsIC4kv"
      },
      "outputs": [],
      "source": [
        "# Summarize in dataframe\n",
        "summary_df.loc['MLP Deeper'] = np.array([train_acc_mlp_deeper,\n",
        "                                         valid_acc_mlp_deeper,\n",
        "                                         train_loss_mlp_deeper,\n",
        "                                         valid_loss_mlp_deeper])\n",
        "summary_df"
      ]
    },
    {
      "cell_type": "markdown",
      "metadata": {
        "id": "-27i4SjNC8_X"
      },
      "source": [
        "- Finally, we predict the model samples"
      ]
    },
    {
      "cell_type": "code",
      "execution_count": null,
      "metadata": {
        "colab": {
          "background_save": true
        },
        "id": "RD2zGBFLC-wQ"
      },
      "outputs": [],
      "source": [
        "# Get prediction\n",
        "model_mlp.eval()\n",
        "with torch.no_grad():\n",
        "    logits_sample = model_mlp_deeper(X_samples)\n",
        "    probs_sample = F.softmax(logits_sample, dim=1)\n",
        "    y_samples_pred = probs_sample.max(1, keepdim=True)[1].view(-1)\n",
        "\n",
        "y_samples_pred"
      ]
    },
    {
      "cell_type": "code",
      "execution_count": null,
      "metadata": {
        "colab": {
          "background_save": true
        },
        "id": "DpRExbt0DBaE"
      },
      "outputs": [],
      "source": [
        "fig, axes = plt.subplots(ncols=8, nrows=4, figsize=(12, 8))\n",
        "index = 0\n",
        "for i in range(4):\n",
        "    for j in range(8):\n",
        "        act_label = labels_map[y_samples[index].item()]\n",
        "        pred_label = labels_map[y_samples_pred[index].item()]\n",
        "        if act_label==pred_label:\n",
        "            color = 'g'\n",
        "        else:\n",
        "            color = 'r'\n",
        "        axes[i,j].set_title(f'act: {act_label}\\npred: {pred_label}', color=color, size=9)\n",
        "        axes[i,j].imshow(X_samples[index].squeeze(), cmap='gray')\n",
        "        axes[i,j].get_xaxis().set_visible(False)\n",
        "        axes[i,j].get_yaxis().set_visible(False)\n",
        "        index += 1\n",
        "plt.show()"
      ]
    },
    {
      "cell_type": "markdown",
      "metadata": {
        "id": "YUP2-eH2DF9L"
      },
      "source": [
        "## Task 3: Create a Model MLP with Dropout\n",
        "---"
      ]
    },
    {
      "cell_type": "markdown",
      "metadata": {
        "id": "gdnO0LEdDH_e"
      },
      "source": [
        "- Create the model class"
      ]
    },
    {
      "cell_type": "code",
      "execution_count": null,
      "metadata": {
        "colab": {
          "background_save": true
        },
        "id": "EgWZssmjDKYp"
      },
      "outputs": [],
      "source": [
        "class MLPDropout(nn.Module):\n",
        "    def __init__(self, config):\n",
        "        super().__init__()\n",
        "\n",
        "        # Create the MLP\n",
        "        torch.manual_seed(42)\n",
        "        self.mlp = nn.Sequential(\n",
        "            # input layer\n",
        "            nn.Flatten(),\n",
        "\n",
        "            # 1st hidden layer\n",
        "            nn.Linear(config.n_in, config.n_hidden),\n",
        "            nn.ReLU(),\n",
        "            nn.Dropout(config.drop_proba),\n",
        "\n",
        "            # 2nd hidden layer\n",
        "            nn.Linear(config.n_hidden, config.n_hidden),\n",
        "            nn.ReLU(),\n",
        "            nn.Dropout(config.drop_proba),\n",
        "\n",
        "            # Output layer\n",
        "            nn.Linear(config.n_hidden, config.n_out)\n",
        "        )\n",
        "\n",
        "    def forward(self, X):\n",
        "        logits = self.mlp(X)\n",
        "        return logits"
      ]
    },
    {
      "cell_type": "code",
      "execution_count": null,
      "metadata": {
        "colab": {
          "background_save": true
        },
        "id": "B6o8TzeQDMnV"
      },
      "outputs": [],
      "source": [
        "# Initialize models\n",
        "model_mlp_dropout = MLPDropout(CONFIG)\n",
        "\n",
        "# Print number of parameters\n",
        "print('Total parameters :', sum(p.nelement() for p in model_mlp_dropout.parameters()))"
      ]
    },
    {
      "cell_type": "markdown",
      "metadata": {
        "id": "Arjyuk9sDOLE"
      },
      "source": [
        "- Then, we start training"
      ]
    },
    {
      "cell_type": "code",
      "execution_count": null,
      "metadata": {
        "colab": {
          "background_save": true
        },
        "id": "DsGBF85MDP-a"
      },
      "outputs": [],
      "source": [
        "# Define optimizer\n",
        "optimizer_3 = torch.optim.SGD(params = model_mlp_dropout.parameters(),\n",
        "                              lr = CONFIG.lr)"
      ]
    },
    {
      "cell_type": "code",
      "execution_count": null,
      "metadata": {
        "colab": {
          "background_save": true,
          "base_uri": "https://localhost:8080/"
        },
        "id": "SaB0-FMSDSku",
        "outputId": "7338cd79-001c-4d08-817e-31806d0f0101"
      },
      "outputs": [
        {
          "name": "stdout",
          "output_type": "stream",
          "text": [
            "Epoch: 001/050 | Batch: 0000/0921 | Loss: 2.3272\n",
            "Epoch: 001/050 | Batch: 0460/0921 | Loss: 1.0992\n",
            "Epoch: 001/050 | Batch: 0920/0921 | Loss: 1.0892\n",
            "Epoch: 001/050 | Train: 77.29% | Valid: 78.00%\n",
            "\n",
            "Epoch: 002/050 | Batch: 0000/0921 | Loss: 0.7912\n",
            "Epoch: 002/050 | Batch: 0460/0921 | Loss: 0.5702\n",
            "Epoch: 002/050 | Batch: 0920/0921 | Loss: 0.6488\n",
            "Epoch: 002/050 | Train: 80.61% | Valid: 80.40%\n",
            "\n",
            "Epoch: 003/050 | Batch: 0000/0921 | Loss: 0.8764\n",
            "Epoch: 003/050 | Batch: 0460/0921 | Loss: 0.6746\n",
            "Epoch: 003/050 | Batch: 0920/0921 | Loss: 0.5372\n",
            "Epoch: 003/050 | Train: 83.00% | Valid: 82.50%\n",
            "\n",
            "Epoch: 004/050 | Batch: 0000/0921 | Loss: 0.5882\n",
            "Epoch: 004/050 | Batch: 0460/0921 | Loss: 0.4251\n",
            "Epoch: 004/050 | Batch: 0920/0921 | Loss: 0.5971\n",
            "Epoch: 004/050 | Train: 84.32% | Valid: 83.20%\n",
            "\n",
            "Epoch: 005/050 | Batch: 0000/0921 | Loss: 0.6080\n",
            "Epoch: 005/050 | Batch: 0460/0921 | Loss: 0.5186\n",
            "Epoch: 005/050 | Batch: 0920/0921 | Loss: 0.5169\n",
            "Epoch: 005/050 | Train: 84.59% | Valid: 84.70%\n",
            "\n",
            "Epoch: 006/050 | Batch: 0000/0921 | Loss: 0.6012\n",
            "Epoch: 006/050 | Batch: 0460/0921 | Loss: 0.5935\n",
            "Epoch: 006/050 | Batch: 0920/0921 | Loss: 0.4174\n",
            "Epoch: 006/050 | Train: 84.93% | Valid: 84.40%\n",
            "\n",
            "Epoch: 007/050 | Batch: 0000/0921 | Loss: 0.3715\n",
            "Epoch: 007/050 | Batch: 0460/0921 | Loss: 0.5093\n",
            "Epoch: 007/050 | Batch: 0920/0921 | Loss: 0.4401\n",
            "Epoch: 007/050 | Train: 85.36% | Valid: 85.40%\n",
            "\n",
            "Epoch: 008/050 | Batch: 0000/0921 | Loss: 0.9153\n",
            "Epoch: 008/050 | Batch: 0460/0921 | Loss: 0.4144\n",
            "Epoch: 008/050 | Batch: 0920/0921 | Loss: 0.5018\n",
            "Epoch: 008/050 | Train: 85.50% | Valid: 85.20%\n",
            "\n",
            "Epoch: 009/050 | Batch: 0000/0921 | Loss: 0.5818\n",
            "Epoch: 009/050 | Batch: 0460/0921 | Loss: 0.6058\n",
            "Epoch: 009/050 | Batch: 0920/0921 | Loss: 0.6180\n",
            "Epoch: 009/050 | Train: 85.58% | Valid: 85.40%\n",
            "\n",
            "Epoch: 010/050 | Batch: 0000/0921 | Loss: 0.5614\n",
            "Epoch: 010/050 | Batch: 0460/0921 | Loss: 0.5691\n",
            "Epoch: 010/050 | Batch: 0920/0921 | Loss: 0.4732\n",
            "Epoch: 010/050 | Train: 85.80% | Valid: 85.80%\n",
            "\n",
            "Epoch: 011/050 | Batch: 0000/0921 | Loss: 0.5769\n",
            "Epoch: 011/050 | Batch: 0460/0921 | Loss: 0.6641\n",
            "Epoch: 011/050 | Batch: 0920/0921 | Loss: 0.6222\n",
            "Epoch: 011/050 | Train: 85.87% | Valid: 86.00%\n",
            "\n",
            "Epoch: 012/050 | Batch: 0000/0921 | Loss: 0.6108\n",
            "Epoch: 012/050 | Batch: 0460/0921 | Loss: 0.6964\n",
            "Epoch: 012/050 | Batch: 0920/0921 | Loss: 0.6887\n",
            "Epoch: 012/050 | Train: 85.23% | Valid: 83.40%\n",
            "\n",
            "Epoch: 013/050 | Batch: 0000/0921 | Loss: 0.5697\n",
            "Epoch: 013/050 | Batch: 0460/0921 | Loss: 0.7853\n",
            "Epoch: 013/050 | Batch: 0920/0921 | Loss: 0.3877\n",
            "Epoch: 013/050 | Train: 86.50% | Valid: 86.40%\n",
            "\n",
            "Epoch: 014/050 | Batch: 0000/0921 | Loss: 0.5693\n",
            "Epoch: 014/050 | Batch: 0460/0921 | Loss: 0.7194\n",
            "Epoch: 014/050 | Batch: 0920/0921 | Loss: 0.5170\n",
            "Epoch: 014/050 | Train: 86.06% | Valid: 85.80%\n",
            "\n",
            "Epoch: 015/050 | Batch: 0000/0921 | Loss: 0.6528\n",
            "Epoch: 015/050 | Batch: 0460/0921 | Loss: 0.3483\n",
            "Epoch: 015/050 | Batch: 0920/0921 | Loss: 0.4811\n",
            "Epoch: 015/050 | Train: 86.50% | Valid: 87.00%\n",
            "\n",
            "Epoch: 016/050 | Batch: 0000/0921 | Loss: 0.4474\n",
            "Epoch: 016/050 | Batch: 0460/0921 | Loss: 0.4568\n",
            "Epoch: 016/050 | Batch: 0920/0921 | Loss: 0.7970\n",
            "Epoch: 016/050 | Train: 86.03% | Valid: 86.30%\n",
            "\n",
            "Epoch: 017/050 | Batch: 0000/0921 | Loss: 0.6859\n",
            "Epoch: 017/050 | Batch: 0460/0921 | Loss: 0.6182\n",
            "Epoch: 017/050 | Batch: 0920/0921 | Loss: 0.4191\n",
            "Epoch: 017/050 | Train: 86.46% | Valid: 85.70%\n",
            "\n",
            "Epoch: 018/050 | Batch: 0000/0921 | Loss: 0.7355\n",
            "Epoch: 018/050 | Batch: 0460/0921 | Loss: 0.4258\n",
            "Epoch: 018/050 | Batch: 0920/0921 | Loss: 0.6746\n",
            "Epoch: 018/050 | Train: 86.61% | Valid: 86.50%\n",
            "\n",
            "Epoch: 019/050 | Batch: 0000/0921 | Loss: 0.5009\n",
            "Epoch: 019/050 | Batch: 0460/0921 | Loss: 0.8675\n",
            "Epoch: 019/050 | Batch: 0920/0921 | Loss: 0.5048\n",
            "Epoch: 019/050 | Train: 86.66% | Valid: 86.00%\n",
            "\n",
            "Epoch: 020/050 | Batch: 0000/0921 | Loss: 0.5968\n",
            "Epoch: 020/050 | Batch: 0460/0921 | Loss: 0.6802\n",
            "Epoch: 020/050 | Batch: 0920/0921 | Loss: 0.9147\n",
            "Epoch: 020/050 | Train: 86.09% | Valid: 86.10%\n",
            "\n",
            "Epoch: 021/050 | Batch: 0000/0921 | Loss: 0.6152\n",
            "Epoch: 021/050 | Batch: 0460/0921 | Loss: 0.5363\n",
            "Epoch: 021/050 | Batch: 0920/0921 | Loss: 0.6770\n",
            "Epoch: 021/050 | Train: 86.73% | Valid: 86.10%\n",
            "\n",
            "Epoch: 022/050 | Batch: 0000/0921 | Loss: 0.4627\n",
            "Epoch: 022/050 | Batch: 0460/0921 | Loss: 0.6523\n",
            "Epoch: 022/050 | Batch: 0920/0921 | Loss: 0.7596\n",
            "Epoch: 022/050 | Train: 86.90% | Valid: 86.10%\n",
            "\n",
            "Epoch: 023/050 | Batch: 0000/0921 | Loss: 0.3234\n",
            "Epoch: 023/050 | Batch: 0460/0921 | Loss: 0.3979\n",
            "Epoch: 023/050 | Batch: 0920/0921 | Loss: 0.3869\n",
            "Epoch: 023/050 | Train: 86.47% | Valid: 86.30%\n",
            "\n",
            "Epoch: 024/050 | Batch: 0000/0921 | Loss: 0.5198\n",
            "Epoch: 024/050 | Batch: 0460/0921 | Loss: 0.4131\n",
            "Epoch: 024/050 | Batch: 0920/0921 | Loss: 0.4852\n",
            "Epoch: 024/050 | Train: 86.67% | Valid: 86.40%\n",
            "\n",
            "Epoch: 025/050 | Batch: 0000/0921 | Loss: 0.4274\n",
            "Epoch: 025/050 | Batch: 0460/0921 | Loss: 0.4525\n",
            "Epoch: 025/050 | Batch: 0920/0921 | Loss: 0.3943\n",
            "Epoch: 025/050 | Train: 87.05% | Valid: 86.40%\n",
            "\n",
            "Epoch: 026/050 | Batch: 0000/0921 | Loss: 0.3605\n",
            "Epoch: 026/050 | Batch: 0460/0921 | Loss: 0.4181\n",
            "Epoch: 026/050 | Batch: 0920/0921 | Loss: 0.3719\n",
            "Epoch: 026/050 | Train: 87.25% | Valid: 86.60%\n",
            "\n",
            "Epoch: 027/050 | Batch: 0000/0921 | Loss: 0.3100\n",
            "Epoch: 027/050 | Batch: 0460/0921 | Loss: 0.4955\n",
            "Epoch: 027/050 | Batch: 0920/0921 | Loss: 0.5810\n",
            "Epoch: 027/050 | Train: 87.03% | Valid: 86.60%\n",
            "\n",
            "Epoch: 028/050 | Batch: 0000/0921 | Loss: 0.7494\n",
            "Epoch: 028/050 | Batch: 0460/0921 | Loss: 0.4616\n",
            "Epoch: 028/050 | Batch: 0920/0921 | Loss: 0.7212\n",
            "Epoch: 028/050 | Train: 87.08% | Valid: 86.60%\n",
            "\n",
            "Epoch: 029/050 | Batch: 0000/0921 | Loss: 0.4776\n",
            "Epoch: 029/050 | Batch: 0460/0921 | Loss: 0.5869\n",
            "Epoch: 029/050 | Batch: 0920/0921 | Loss: 0.2094\n",
            "Epoch: 029/050 | Train: 87.35% | Valid: 86.40%\n",
            "\n",
            "Epoch: 030/050 | Batch: 0000/0921 | Loss: 0.4313\n",
            "Epoch: 030/050 | Batch: 0460/0921 | Loss: 0.4075\n",
            "Epoch: 030/050 | Batch: 0920/0921 | Loss: 0.7819\n",
            "Epoch: 030/050 | Train: 87.19% | Valid: 86.20%\n",
            "\n",
            "Epoch: 031/050 | Batch: 0000/0921 | Loss: 0.6262\n",
            "Epoch: 031/050 | Batch: 0460/0921 | Loss: 0.4264\n",
            "Epoch: 031/050 | Batch: 0920/0921 | Loss: 0.5811\n",
            "Epoch: 031/050 | Train: 87.59% | Valid: 86.20%\n",
            "\n",
            "Epoch: 032/050 | Batch: 0000/0921 | Loss: 0.4328\n",
            "Epoch: 032/050 | Batch: 0460/0921 | Loss: 0.4907\n",
            "Epoch: 032/050 | Batch: 0920/0921 | Loss: 0.4136\n",
            "Epoch: 032/050 | Train: 87.66% | Valid: 86.70%\n",
            "\n",
            "Epoch: 033/050 | Batch: 0000/0921 | Loss: 0.4093\n",
            "Epoch: 033/050 | Batch: 0460/0921 | Loss: 0.4865\n",
            "Epoch: 033/050 | Batch: 0920/0921 | Loss: 0.6929\n",
            "Epoch: 033/050 | Train: 87.05% | Valid: 86.60%\n",
            "\n",
            "Epoch: 034/050 | Batch: 0000/0921 | Loss: 0.4399\n",
            "Epoch: 034/050 | Batch: 0460/0921 | Loss: 0.4967\n",
            "Epoch: 034/050 | Batch: 0920/0921 | Loss: 0.4584\n",
            "Epoch: 034/050 | Train: 87.33% | Valid: 87.00%\n",
            "\n",
            "Epoch: 035/050 | Batch: 0000/0921 | Loss: 0.5518\n",
            "Epoch: 035/050 | Batch: 0460/0921 | Loss: 0.4503\n",
            "Epoch: 035/050 | Batch: 0920/0921 | Loss: 0.6102\n",
            "Epoch: 035/050 | Train: 87.70% | Valid: 86.80%\n",
            "\n",
            "Epoch: 036/050 | Batch: 0000/0921 | Loss: 0.8966\n",
            "Epoch: 036/050 | Batch: 0460/0921 | Loss: 0.4481\n",
            "Epoch: 036/050 | Batch: 0920/0921 | Loss: 0.3649\n",
            "Epoch: 036/050 | Train: 87.43% | Valid: 87.50%\n",
            "\n",
            "Epoch: 037/050 | Batch: 0000/0921 | Loss: 0.6091\n",
            "Epoch: 037/050 | Batch: 0460/0921 | Loss: 0.5613\n",
            "Epoch: 037/050 | Batch: 0920/0921 | Loss: 0.4419\n",
            "Epoch: 037/050 | Train: 86.71% | Valid: 86.00%\n",
            "\n",
            "Epoch: 038/050 | Batch: 0000/0921 | Loss: 0.3891\n",
            "Epoch: 038/050 | Batch: 0460/0921 | Loss: 0.5120\n",
            "Epoch: 038/050 | Batch: 0920/0921 | Loss: 0.4912\n",
            "Epoch: 038/050 | Train: 86.90% | Valid: 86.50%\n",
            "\n",
            "Epoch: 039/050 | Batch: 0000/0921 | Loss: 0.3930\n",
            "Epoch: 039/050 | Batch: 0460/0921 | Loss: 0.4233\n",
            "Epoch: 039/050 | Batch: 0920/0921 | Loss: 0.4355\n",
            "Epoch: 039/050 | Train: 87.58% | Valid: 87.00%\n",
            "\n",
            "Epoch: 040/050 | Batch: 0000/0921 | Loss: 0.6057\n",
            "Epoch: 040/050 | Batch: 0460/0921 | Loss: 0.5911\n",
            "Epoch: 040/050 | Batch: 0920/0921 | Loss: 0.5372\n",
            "Epoch: 040/050 | Train: 87.34% | Valid: 86.80%\n",
            "\n",
            "Epoch: 041/050 | Batch: 0000/0921 | Loss: 0.7660\n",
            "Epoch: 041/050 | Batch: 0460/0921 | Loss: 0.4954\n",
            "Epoch: 041/050 | Batch: 0920/0921 | Loss: 0.4759\n",
            "Epoch: 041/050 | Train: 87.71% | Valid: 86.70%\n",
            "\n",
            "Epoch: 042/050 | Batch: 0000/0921 | Loss: 0.6047\n",
            "Epoch: 042/050 | Batch: 0460/0921 | Loss: 0.3888\n",
            "Epoch: 042/050 | Batch: 0920/0921 | Loss: 0.4393\n",
            "Epoch: 042/050 | Train: 87.71% | Valid: 87.70%\n",
            "\n",
            "Epoch: 043/050 | Batch: 0000/0921 | Loss: 0.6826\n",
            "Epoch: 043/050 | Batch: 0460/0921 | Loss: 0.4213\n",
            "Epoch: 043/050 | Batch: 0920/0921 | Loss: 0.7546\n",
            "Epoch: 043/050 | Train: 87.69% | Valid: 87.10%\n",
            "\n",
            "Epoch: 044/050 | Batch: 0000/0921 | Loss: 0.4172\n",
            "Epoch: 044/050 | Batch: 0460/0921 | Loss: 0.4095\n",
            "Epoch: 044/050 | Batch: 0920/0921 | Loss: 0.5692\n",
            "Epoch: 044/050 | Train: 87.33% | Valid: 85.80%\n",
            "\n",
            "Epoch: 045/050 | Batch: 0000/0921 | Loss: 0.5218\n",
            "Epoch: 045/050 | Batch: 0460/0921 | Loss: 0.6714\n",
            "Epoch: 045/050 | Batch: 0920/0921 | Loss: 0.6891\n",
            "Epoch: 045/050 | Train: 87.35% | Valid: 87.30%\n",
            "\n",
            "Epoch: 046/050 | Batch: 0000/0921 | Loss: 0.5894\n",
            "Epoch: 046/050 | Batch: 0460/0921 | Loss: 0.1878\n",
            "Epoch: 046/050 | Batch: 0920/0921 | Loss: 0.4785\n",
            "Epoch: 046/050 | Train: 88.20% | Valid: 86.90%\n",
            "\n",
            "Epoch: 047/050 | Batch: 0000/0921 | Loss: 0.3528\n",
            "Epoch: 047/050 | Batch: 0460/0921 | Loss: 0.5948\n",
            "Epoch: 047/050 | Batch: 0920/0921 | Loss: 0.4218\n",
            "Epoch: 047/050 | Train: 87.49% | Valid: 86.90%\n",
            "\n",
            "Epoch: 048/050 | Batch: 0000/0921 | Loss: 0.3842\n",
            "Epoch: 048/050 | Batch: 0460/0921 | Loss: 0.3550\n",
            "Epoch: 048/050 | Batch: 0920/0921 | Loss: 0.5903\n",
            "Epoch: 048/050 | Train: 87.86% | Valid: 87.10%\n",
            "\n",
            "Epoch: 049/050 | Batch: 0000/0921 | Loss: 0.4920\n",
            "Epoch: 049/050 | Batch: 0460/0921 | Loss: 0.8001\n",
            "Epoch: 049/050 | Batch: 0920/0921 | Loss: 0.7309\n",
            "Epoch: 049/050 | Train: 87.93% | Valid: 86.90%\n",
            "\n",
            "Epoch: 050/050 | Batch: 0000/0921 | Loss: 0.3205\n",
            "Epoch: 050/050 | Batch: 0460/0921 | Loss: 0.4094\n",
            "Epoch: 050/050 | Batch: 0920/0921 | Loss: 0.5660\n",
            "Epoch: 050/050 | Train: 87.93% | Valid: 87.60%\n",
            "\n",
            "Total Training Time: 18.33 min\n"
          ]
        }
      ],
      "source": [
        "losses_mlp_dropout, train_acc_mlp_dropout, valid_acc_mlp_dropout = train(model=model_mlp_dropout,\n",
        "                                                                         max_epoch=CONFIG.max_epochs,\n",
        "                                                                         train_loader=train_loader,\n",
        "                                                                         optimizer=optimizer_3)"
      ]
    },
    {
      "cell_type": "markdown",
      "metadata": {
        "id": "aR7ez2KrDVrT"
      },
      "source": [
        "- Plot the loss & accuracy"
      ]
    },
    {
      "cell_type": "code",
      "execution_count": null,
      "metadata": {
        "colab": {
          "background_save": true,
          "base_uri": "https://localhost:8080/"
        },
        "id": "EFyAxqwODaOI",
        "outputId": "02bc902f-a2f7-4648-b2bf-3e9d1588f2df"
      },
      "outputs": [
        {
          "data": {
            "image/png": "[encoded data removed]",
            "text/plain": [
              "<Figure size 640x480 with 1 Axes>"
            ]
          },
          "metadata": {},
          "output_type": "display_data"
        }
      ],
      "source": [
        "plt.plot(np.arange(len(losses_mlp_dropout)),\n",
        "         losses_mlp_dropout, c='tab:blue',\n",
        "         label='minibatch loss')\n",
        "\n",
        "plt.legend()\n",
        "plt.show()"
      ]
    },
    {
      "cell_type": "code",
      "execution_count": null,
      "metadata": {
        "colab": {
          "background_save": true,
          "base_uri": "https://localhost:8080/"
        },
        "id": "6oe40U-KDeTt",
        "outputId": "5b870900-aac7-4078-abee-b7458221cfd3"
      },
      "outputs": [
        {
          "data": {
            "image/png": "[encoded data removed]",
            "text/plain": [
              "<Figure size 640x480 with 1 Axes>"
            ]
          },
          "metadata": {},
          "output_type": "display_data"
        }
      ],
      "source": [
        "plt.plot(np.arange(len(train_acc_mlp_dropout)),\n",
        "         train_acc_mlp_dropout, c='tab:blue', label='train')\n",
        "\n",
        "plt.plot(np.arange(len(valid_acc_mlp_dropout)),\n",
        "         valid_acc_mlp_dropout, c='tab:orange', label='valid')\n",
        "\n",
        "plt.ylabel('% Accuracy'); plt.xlabel('Epoch')\n",
        "plt.ylim(75, 100)\n",
        "plt.legend()\n",
        "plt.show()"
      ]
    },
    {
      "cell_type": "markdown",
      "metadata": {
        "id": "gYyKwrBNDnNh"
      },
      "source": [
        "- Validate on train & valid data"
      ]
    },
    {
      "cell_type": "code",
      "execution_count": null,
      "metadata": {
        "id": "9scM4OfSDpN9"
      },
      "outputs": [],
      "source": [
        "# Calculate\n",
        "train_acc_mlp_dropout, train_loss_mlp_dropout = get_inference(model_mlp_dropout, 'train')\n",
        "valid_acc_mlp_dropout, valid_loss_mlp_dropout = get_inference(model_mlp_dropout, 'valid')"
      ]
    },
    {
      "cell_type": "code",
      "execution_count": null,
      "metadata": {
        "id": "lx3tVeRHDq2G"
      },
      "outputs": [],
      "source": [
        "# Summarize in dataframe\n",
        "summary_df.loc['MLP dropout'] = np.array([train_acc_mlp_dropout,\n",
        "                                         valid_acc_mlp_dropout,\n",
        "                                         train_loss_mlp_dropout,\n",
        "                                         valid_loss_mlp_dropout])\n",
        "summary_df"
      ]
    },
    {
      "cell_type": "markdown",
      "metadata": {
        "id": "LpUWLrW1DtSb"
      },
      "source": [
        "- Finally, we predict the model samples"
      ]
    },
    {
      "cell_type": "code",
      "execution_count": null,
      "metadata": {
        "id": "pzgSePpiDvyz"
      },
      "outputs": [],
      "source": [
        "# Get prediction\n",
        "model_mlp.eval()\n",
        "with torch.no_grad():\n",
        "    logits_sample = model_mlp_dropout(X_samples)\n",
        "    probs_sample = F.softmax(logits_sample, dim=1)\n",
        "    y_samples_pred = probs_sample.max(1, keepdim=True)[1].view(-1)\n",
        "\n",
        "y_samples_pred"
      ]
    },
    {
      "cell_type": "code",
      "execution_count": null,
      "metadata": {
        "id": "FmmHJPHZDyuA"
      },
      "outputs": [],
      "source": [
        "fig, axes = plt.subplots(ncols=8, nrows=4, figsize=(12, 8))\n",
        "index = 0\n",
        "for i in range(4):\n",
        "    for j in range(8):\n",
        "        act_label = labels_map[y_samples[index].item()]\n",
        "        pred_label = labels_map[y_samples_pred[index].item()]\n",
        "        if act_label==pred_label:\n",
        "            color = 'g'\n",
        "        else:\n",
        "            color = 'r'\n",
        "        axes[i,j].set_title(f'act: {act_label}\\npred: {pred_label}', color=color, size=9)\n",
        "        axes[i,j].imshow(X_samples[index].squeeze(), cmap='gray')\n",
        "        axes[i,j].get_xaxis().set_visible(False)\n",
        "        axes[i,j].get_yaxis().set_visible(False)\n",
        "        index += 1\n",
        "plt.show()"
      ]
    },
    {
      "cell_type": "markdown",
      "metadata": {
        "id": "z_n0rKmkD2DN"
      },
      "source": [
        "## Task 4: Create a Model MLP with L2 Regularization\n",
        "---"
      ]
    },
    {
      "cell_type": "markdown",
      "metadata": {
        "id": "CiXwjTvvD7XG"
      },
      "source": [
        "- First, we're gonna recreate the train function to accomodate regularization"
      ]
    },
    {
      "cell_type": "code",
      "execution_count": null,
      "metadata": {
        "id": "FwdF6XBDD9BO"
      },
      "outputs": [],
      "source": [
        "def train_regularize(model, max_epoch, train_loader, optimizer):\n",
        "    \"\"\"Train the model\"\"\"\n",
        "    # Initialize\n",
        "    train_acc_list = []\n",
        "    valid_acc_list = []\n",
        "    losses = []\n",
        "\n",
        "    # Start iteration\n",
        "    start_time = time.time()\n",
        "    for epoch in range(max_epoch):\n",
        "        # Training -- iterate over batch\n",
        "        model.train()\n",
        "        for batch_idx, (imgs, targets) in enumerate(train_loader):\n",
        "            # Forward pass\n",
        "            logits = model(imgs)\n",
        "            loss = F.cross_entropy(logits, targets)\n",
        "\n",
        "            # IN HERE ---\n",
        "            # We find the regularizing term, i.e. ||w||2\n",
        "            L2 = 0.\n",
        "            for lyr_name, lyr_param in model.named_parameters():\n",
        "                if 'weight' in lyr_name:\n",
        "                    L2 += (lyr_param**2).sum()\n",
        "\n",
        "            # Add L2 to the loss\n",
        "            loss = loss + 0.5 * (CONFIG.lamda/len(targets)) * L2\n",
        "\n",
        "            # Backpropagation\n",
        "            model.zero_grad(set_to_none=True)\n",
        "            loss.backward()\n",
        "\n",
        "            # Update the model parameter\n",
        "            optimizer.step()\n",
        "\n",
        "            # Log the minibatch (inner iteration)\n",
        "            losses.append(loss.item())\n",
        "            if not batch_idx % int(len(train_loader)/2.):\n",
        "                print(f'Epoch: {epoch+1:03d}/{max_epoch:03d} '\n",
        "                      f'| Batch: {batch_idx:04d}/{len(train_loader):04d} '\n",
        "                      f'| Loss: {loss:.4f}')\n",
        "\n",
        "        # Inference\n",
        "        model.eval()\n",
        "        with torch.no_grad():\n",
        "            train_acc, _ = get_inference(model, 'train')\n",
        "            valid_acc, _ = get_inference(model, 'valid')\n",
        "\n",
        "            print(f'Epoch: {epoch+1:03d}/{max_epoch:03d} '\n",
        "                  f'| Train: {train_acc:.2f}% '\n",
        "                  f'| Valid: {valid_acc:.2f}%')\n",
        "            print('')\n",
        "\n",
        "            train_acc_list.append(train_acc.item())\n",
        "            valid_acc_list.append(valid_acc.item())\n",
        "\n",
        "    # Finalize\n",
        "    elapsed = (time.time() - start_time)/60\n",
        "    print(f'Total Training Time: {elapsed:.2f} min')\n",
        "\n",
        "    return losses, train_acc_list, valid_acc_list"
      ]
    },
    {
      "cell_type": "markdown",
      "metadata": {
        "id": "RfAOO50kD_XL"
      },
      "source": [
        "- Next we create the model.\n",
        "- We can regularize our MLPDeeper"
      ]
    },
    {
      "cell_type": "code",
      "execution_count": null,
      "metadata": {
        "id": "trYhmlWJEBtO"
      },
      "outputs": [],
      "source": [
        "# Initialize models\n",
        "model_mlp_l2 = MLPDeeper(CONFIG)\n",
        "\n",
        "# Print number of parameters\n",
        "print('Total parameters :', sum(p.nelement() for p in model_mlp_l2.parameters()))"
      ]
    },
    {
      "cell_type": "markdown",
      "metadata": {
        "id": "lcBC0Yb0ED4t"
      },
      "source": [
        "- Then, we start training"
      ]
    },
    {
      "cell_type": "code",
      "execution_count": null,
      "metadata": {
        "id": "ezSb0He_EGAT"
      },
      "outputs": [],
      "source": [
        "# Define optimizer\n",
        "optimizer_4 = torch.optim.SGD(params = model_mlp_l2.parameters(),\n",
        "                              lr = CONFIG.lr)"
      ]
    },
    {
      "cell_type": "code",
      "execution_count": null,
      "metadata": {
        "id": "ke1gduT-EIAK"
      },
      "outputs": [],
      "source": [
        "losses_mlp_l2, train_acc_mlp_l2, valid_acc_mlp_l2 = train_regularize(model=model_mlp_l2,\n",
        "                                                                     max_epoch=CONFIG.max_epochs,\n",
        "                                                                     train_loader=train_loader,\n",
        "                                                                     optimizer=optimizer_4)"
      ]
    },
    {
      "cell_type": "markdown",
      "metadata": {
        "id": "ginIS63REKRV"
      },
      "source": [
        "- Plot the loss & accuracy"
      ]
    },
    {
      "cell_type": "code",
      "execution_count": null,
      "metadata": {
        "id": "va9sq1OsELvh"
      },
      "outputs": [],
      "source": [
        "plt.plot(np.arange(len(losses_mlp_l2)), losses_mlp_l2, c='tab:blue', label='minibatch loss')\n",
        "plt.legend()\n",
        "plt.show()"
      ]
    },
    {
      "cell_type": "code",
      "execution_count": null,
      "metadata": {
        "id": "Udi1wRhlEPtP"
      },
      "outputs": [],
      "source": [
        "plt.plot(np.arange(len(train_acc_mlp_l2)), train_acc_mlp_l2, c='tab:blue', label='train')\n",
        "plt.plot(np.arange(len(valid_acc_mlp_l2)), valid_acc_mlp_l2, c='tab:orange', label='valid')\n",
        "plt.ylabel('% Accuracy'); plt.xlabel('Epoch')\n",
        "plt.ylim(75, 100)\n",
        "plt.legend()\n",
        "plt.show()"
      ]
    },
    {
      "cell_type": "markdown",
      "metadata": {
        "id": "2MPFK2mEES1F"
      },
      "source": [
        "- Validate on train & valid data"
      ]
    },
    {
      "cell_type": "code",
      "execution_count": null,
      "metadata": {
        "id": "IE_2FvO3EUOF"
      },
      "outputs": [],
      "source": [
        "# Calculate\n",
        "train_acc_mlp_l2, train_loss_mlp_l2 = get_inference(model_mlp_l2, 'train')\n",
        "valid_acc_mlp_l2, valid_loss_mlp_l2 = get_inference(model_mlp_l2, 'valid')"
      ]
    },
    {
      "cell_type": "code",
      "execution_count": null,
      "metadata": {
        "id": "ccKdvVpgEV3T"
      },
      "outputs": [],
      "source": [
        "# Summarize in dataframe\n",
        "summary_df.loc['MLP L2'] = np.array([train_acc_mlp_l2,\n",
        "                                         valid_acc_mlp_l2,\n",
        "                                         train_loss_mlp_l2,\n",
        "                                         valid_loss_mlp_l2])\n",
        "summary_df"
      ]
    },
    {
      "cell_type": "markdown",
      "metadata": {
        "id": "FZNrZ9rpEYLF"
      },
      "source": [
        "- Finally, we predict the model samples"
      ]
    },
    {
      "cell_type": "code",
      "execution_count": null,
      "metadata": {
        "id": "4TuZyqgFEZiW"
      },
      "outputs": [],
      "source": [
        "# Get prediction\n",
        "model_mlp.eval()\n",
        "with torch.no_grad():\n",
        "    logits_sample = model_mlp_l2(X_samples)\n",
        "    probs_sample = F.softmax(logits_sample, dim=1)\n",
        "    y_samples_pred = probs_sample.max(1, keepdim=True)[1].view(-1)\n",
        "\n",
        "y_samples_pred"
      ]
    },
    {
      "cell_type": "code",
      "execution_count": null,
      "metadata": {
        "id": "KycHSVgXEbel"
      },
      "outputs": [],
      "source": [
        "fig, axes = plt.subplots(ncols=8, nrows=4, figsize=(12, 8))\n",
        "index = 0\n",
        "for i in range(4):\n",
        "    for j in range(8):\n",
        "        act_label = labels_map[y_samples[index].item()]\n",
        "        pred_label = labels_map[y_samples_pred[index].item()]\n",
        "        if act_label==pred_label:\n",
        "            color = 'g'\n",
        "        else:\n",
        "            color = 'r'\n",
        "        axes[i,j].set_title(f'act: {act_label}\\npred: {pred_label}', color=color, size=9)\n",
        "        axes[i,j].imshow(X_samples[index].squeeze(), cmap='gray')\n",
        "        axes[i,j].get_xaxis().set_visible(False)\n",
        "        axes[i,j].get_yaxis().set_visible(False)\n",
        "        index += 1\n",
        "plt.show()"
      ]
    },
    {
      "cell_type": "markdown",
      "metadata": {
        "id": "mT-uwn26EeuN"
      },
      "source": [
        "## Task 5: Create a Model MLP with Adam Optimization Method\n",
        "---"
      ]
    },
    {
      "cell_type": "markdown",
      "metadata": {
        "id": "CJDmrXfiEhcN"
      },
      "source": [
        "- In this task, we try other optimization method, i.e. Adam\n",
        "- Our base model would be the MLPDeeper"
      ]
    },
    {
      "cell_type": "code",
      "execution_count": null,
      "metadata": {
        "id": "8-jhemzgEkRl"
      },
      "outputs": [],
      "source": [
        "# Initialize models\n",
        "model_mlp_adam = MLPDeeper(CONFIG)\n",
        "\n",
        "# Print number of parameters\n",
        "print('Total parameters :', sum(p.nelement() for p in model_mlp_adam.parameters()))"
      ]
    },
    {
      "cell_type": "markdown",
      "metadata": {
        "id": "Dy60sLnlEqIR"
      },
      "source": [
        "- Then, we start training"
      ]
    },
    {
      "cell_type": "code",
      "execution_count": null,
      "metadata": {
        "id": "gkTZpfWXErvz"
      },
      "outputs": [],
      "source": [
        "# Define optimizer\n",
        "optimizer_5 = torch.optim.Adam(params = model_mlp_adam.parameters(),\n",
        "                               lr = 1e-4,\n",
        "                               betas = (0.9, 0.999))"
      ]
    },
    {
      "cell_type": "code",
      "execution_count": null,
      "metadata": {
        "id": "E5V0f6moEtNe"
      },
      "outputs": [],
      "source": [
        "losses_mlp_adam, train_acc_mlp_adam, valid_acc_mlp_adam = train(model=model_mlp_adam,\n",
        "                                                                max_epoch=CONFIG.max_epochs,\n",
        "                                                                train_loader=train_loader,\n",
        "                                                                optimizer=optimizer_5)"
      ]
    },
    {
      "cell_type": "markdown",
      "metadata": {
        "id": "Mf-nIZghEv51"
      },
      "source": [
        "- Plot the loss & accuracy"
      ]
    },
    {
      "cell_type": "code",
      "execution_count": null,
      "metadata": {
        "id": "qgRIknDZExlP"
      },
      "outputs": [],
      "source": [
        "plt.plot(np.arange(len(losses_mlp_adam)), losses_mlp_adam, c='tab:blue', label='minibatch loss')\n",
        "plt.legend()\n",
        "plt.show()"
      ]
    },
    {
      "cell_type": "code",
      "execution_count": null,
      "metadata": {
        "id": "n-OP-EUmEzUs"
      },
      "outputs": [],
      "source": [
        "plt.plot(np.arange(len(train_acc_mlp_adam)), train_acc_mlp_adam, c='tab:blue', label='train')\n",
        "plt.plot(np.arange(len(valid_acc_mlp_adam)), valid_acc_mlp_adam, c='tab:orange', label='valid')\n",
        "plt.ylabel('% Accuracy'); plt.xlabel('Epoch')\n",
        "plt.legend()\n",
        "plt.show()"
      ]
    },
    {
      "cell_type": "markdown",
      "metadata": {
        "id": "oD7AXvztE1Hc"
      },
      "source": [
        "- Validate on train & valid data"
      ]
    },
    {
      "cell_type": "code",
      "execution_count": null,
      "metadata": {
        "id": "vu2C-wXfE2j2"
      },
      "outputs": [],
      "source": [
        "# Calculate\n",
        "train_acc_mlp_adam, train_loss_mlp_adam = get_inference(model_mlp_adam, 'train')\n",
        "valid_acc_mlp_adam, valid_loss_mlp_adam = get_inference(model_mlp_adam, 'valid')"
      ]
    },
    {
      "cell_type": "code",
      "execution_count": null,
      "metadata": {
        "id": "rSrTfOPIE3xO"
      },
      "outputs": [],
      "source": [
        "# Summarize in dataframe\n",
        "summary_df.loc['MLP adam'] = np.array([train_acc_mlp_adam,\n",
        "                                       valid_acc_mlp_adam,\n",
        "                                       train_loss_mlp_adam,\n",
        "                                       valid_loss_mlp_adam])\n",
        "summary_df"
      ]
    },
    {
      "cell_type": "markdown",
      "metadata": {
        "id": "vENZT4WRE56B"
      },
      "source": [
        "- Finally, we predict the model samples"
      ]
    },
    {
      "cell_type": "code",
      "execution_count": null,
      "metadata": {
        "id": "e5nFun58E7mt"
      },
      "outputs": [],
      "source": [
        "# Get prediction\n",
        "model_mlp.eval()\n",
        "with torch.no_grad():\n",
        "    logits_sample = model_mlp_adam(X_samples)\n",
        "    probs_sample = F.softmax(logits_sample, dim=1)\n",
        "    y_samples_pred = probs_sample.max(1, keepdim=True)[1].view(-1)\n",
        "\n",
        "y_samples_pred"
      ]
    },
    {
      "cell_type": "code",
      "execution_count": null,
      "metadata": {
        "id": "RRKMBiU_E9e2"
      },
      "outputs": [],
      "source": [
        "fig, axes = plt.subplots(ncols=8, nrows=4, figsize=(12, 8))\n",
        "index = 0\n",
        "for i in range(4):\n",
        "    for j in range(8):\n",
        "        act_label = labels_map[y_samples[index].item()]\n",
        "        pred_label = labels_map[y_samples_pred[index].item()]\n",
        "        if act_label==pred_label:\n",
        "            color = 'g'\n",
        "        else:\n",
        "            color = 'r'\n",
        "        axes[i,j].set_title(f'act: {act_label}\\npred: {pred_label}', color=color, size=9)\n",
        "        axes[i,j].imshow(X_samples[index].squeeze(), cmap='gray')\n",
        "        axes[i,j].get_xaxis().set_visible(False)\n",
        "        axes[i,j].get_yaxis().set_visible(False)\n",
        "        index += 1\n",
        "plt.show()"
      ]
    }
  ],
  "metadata": {
    "colab": {
      "provenance": []
    },
    "kernelspec": {
      "display_name": "Python 3",
      "name": "python3"
    },
    "language_info": {
      "name": "python"
    }
  },
  "nbformat": 4,
  "nbformat_minor": 0
}